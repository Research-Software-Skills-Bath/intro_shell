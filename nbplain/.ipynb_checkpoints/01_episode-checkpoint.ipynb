{
 "cells": [
  {
   "cell_type": "markdown",
   "id": "missing-backing",
   "metadata": {},
   "source": [
    "# Accessing the Cloud HPC Facility\n",
    "\n",
    "## Overview:\n",
    "\n",
    "- **Teaching:** 10 min\n",
    "- **Exercises:** 0 min\n",
    "\n",
    "**Questions**\n",
    "- How do I access the Cloud HPC Facility?\n",
    "- Where do I find out more information about ssh and security?\n",
    "\n",
    "**Objectives**\n",
    "- Understand what ssh is, and securing your connection\n",
    "- Be able to log-on to the Cloud HPC facility\n"
   ]
  },
  {
   "cell_type": "markdown",
   "id": "double-guard",
   "metadata": {},
   "source": [
    "## Information: SSH\n",
    "\n",
    "As HPC services are remote machines, interaction is done over an encrypted communication channel called Secure Shell version 2 (SSH-2). This allows command-line access to one of the login nodes of a HPC service, from which you can run commands or use a command-line text editor to edit files.\n",
    "\n",
    "\n",
    "### Security\n",
    "\n",
    "Users and system operators have a shared responsibility to ensure the security of resources. System operators monitor the system, ensure security patches are up-to-date and that the systems is configured to restrict access correctly e.g. so that users cannot see each others data/files by default.\n",
    "\n",
    "Users should follow best practice to mitigate the risk of accounts and access details being compromised, e.g. we all know that we must keep our passwords secret. You shouldn't make your files accessible to others unless necessary.\n",
    "\n",
    "### Strong passwords\n",
    "\n",
    "A strong password describes a password that is difficult to detect by both humans and computer programs, effectively protecting data from unauthorized access. A strong password consists of at least twelve characters (and the more characters, the stronger the password) that are a combination of letters, numbers and symbols  (@, !, &, ^ etc) if allowed. Passwords are typically case-sensitive, so a strong password contains letters in both uppercase and lowercase. Strong passwords also do not contain words that can be found in a dictionary or parts of the user's own name.\n",
    "\n",
    "### SSH key pairs\n",
    "\n",
    "An alternative to using a password is to use an ssh key-pair. A public key pair consists of two parts, a public part and a private part which are related. One is used to lock the message the other is used to unlock the message:\n",
    "\n",
    "* The public part is used to lock (encrypt) the message so that it can be sent over the internet and can be shared.\n",
    "* The private part is used to unlock (decrpyt) the message and should not be shared.\n",
    "\n",
    "### Set up a key pair\n",
    "\n",
    "The SSH key pair consists of a private part and a public part. The public key can be put on remote machines to allow you to log-in without the use of a password. You keep the private part of the key secure on your local machine protected with a passphrase.\n",
    "\n",
    "Public key encryption uses fancy maths to enable secure communication over an open channel. There are a number of methods the most common being RSA) which uses prime numbers. If you are going to use this you should use a key size of at least 2048 and preferably 4096. Public keys can be broken with brute force computation and the longer the key the more secure it is.\n",
    "\n",
    "An alternative encryption method and the one we recommend you to use are based on EdDSA (Ed25519). For our purposes the key pair works in the same way. Your public key can go on the remote resource or service and the private key is kept protected on your local machine. You can generate a key pair with:\n",
    "\n",
    "ssh-keygen -o -a 100 -t ed25519\n",
    "* ssh-keygen is the command to generate the key pair\n",
    "* -o specifies to use a strong format to save the key\n",
    "* -a 100 increases the strength of encryption with your passphrase\n",
    "* -t ed25519 specifies the encryption method used\n",
    "\n",
    "When you create a SSH key pair you will be prompted to provide a passphrase. This is effectively password for your private key and like a password should be kept secret. Now when you try to use the key, you should be asked for your key pair passphase (which you entered when you created the key pair) rather than your remote machine password.\n",
    "\n",
    "Access to the HPC cloud service can be through key pairs, but **ensure your key pair is protected by a passphrase**. \n",
    "\n",
    "### More details on ssh and security\n",
    "\n",
    "For further details on ssh, and security you can visit the ARC lesson:\n",
    "\n",
    "https://arc-lessons.github.io/security/00_schedule.html\n",
    "\n"
   ]
  },
  {
   "cell_type": "markdown",
   "id": "sufficient-washer",
   "metadata": {},
   "source": [
    "## Logging onto the University Linux service\n",
    "\n",
    "The cloud HPC service can only be accessed either on campus or from behind the University VPN. For details on accessing the VPN you can visit https://www.bath.ac.uk/guides/setting-up-vpn-on-your-device/.\n",
    "\n",
    "An alternative is to go through the University linux service (which is what we shall do here - but if behind the VPN you can jump staight to logging onto the cloud HPC service).\n",
    "\n",
    "Let's try logging on to the University linux service. (For a more in depth description visit our [guide on how to login](https://arc-lessons.github.io/security/02_ssh.html)).  \n",
    "\n",
    "You can log-in to `linux.bath.ac.uk` with you University username and password using the following command from the terminal window:\n",
    "\n",
    "```ssh [userID]@linux.bath.ac.uk```\n",
    "\n",
    "Insert your University credentials and you should be greeted with the following log-in message:\n",
    "\n",
    "![linux-login](../images/linux-login.png)\n",
    "\n"
   ]
  },
  {
   "cell_type": "markdown",
   "id": "normal-stamp",
   "metadata": {},
   "source": [
    "## Logging onto the Cloud HPC service\n",
    "\n",
    "Now we are on the University linux service (or behind the University's VPN) we can try logging onto the new cloud HPC environment.\n",
    "\n",
    "The phase 1 cloud HPC service is known as Janus, and you can log-on with the following command from inside a terminal connected to `linux.bath.ac.uk`:\n",
    "\n",
    "```ssh [userID]@janus.hpc.bath.ac.uk```\n",
    "\n",
    "You should be greeted with the janus login:\n",
    "\n",
    "\n",
    "![linux-login](../images/janus-login.png)\n"
   ]
  },
  {
   "cell_type": "markdown",
   "id": "surprising-reproduction",
   "metadata": {},
   "source": [
    "### ***Congratulations! You're now in the cloud!!***"
   ]
  },
  {
   "cell_type": "markdown",
   "id": "greek-grain",
   "metadata": {},
   "source": [
    "### On Campus\n",
    "\n",
    "It is possible to log onto the University linux service from a University PC with:\n",
    "\n",
    "- ‘Start’ → All Programs → Xming → linux\n",
    "\n",
    "This launches a program called ‘Kitty’ which will try to connect to the linux service. A window should open which asks for `login as:`. Insert your University username, and you will be prompted for a password:\n",
    "\n",
    "![linux-password](../images/linux-password.png)\n",
    "\n",
    "If you have successfully logged on, the window will display the same University Linux welcome message above.\n",
    "\n",
    "The process for accessing the cloud HPC service from this session is the same as above."
   ]
  }
 ],
 "metadata": {
  "kernelspec": {
   "display_name": "Python 3",
   "language": "python",
   "name": "python3"
  },
  "language_info": {
   "codemirror_mode": {
    "name": "ipython",
    "version": 3
   },
   "file_extension": ".py",
   "mimetype": "text/x-python",
   "name": "python",
   "nbconvert_exporter": "python",
   "pygments_lexer": "ipython3",
   "version": "3.9.7"
  }
 },
 "nbformat": 4,
 "nbformat_minor": 5
}
