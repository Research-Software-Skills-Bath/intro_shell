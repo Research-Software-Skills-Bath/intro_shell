{
 "cells": [
  {
   "cell_type": "markdown",
   "metadata": {
    "slideshow": {
     "slide_type": "slide"
    }
   },
   "source": [
    "# Slurm"
   ]
  },
  {
   "cell_type": "markdown",
   "metadata": {
    "slideshow": {
     "slide_type": "subslide"
    }
   },
   "source": [
    "## Overview:\n",
    "- **Teaching:** 10 min\n",
    "- **Exercises:** 0 min\n",
    "\n",
    "**Questions**\n",
    "- What is a scheduler\n",
    "- How can I use `slurm` to manage and run my jobs\n",
    "- What `slurm` commands can I use to explore the system\n",
    "\n",
    "**Objectives**\n",
    "- Know that the scheduler manages jobs on the service\n",
    "- Know how to interact with `slurm` to:\n",
    "    * see what jobs are running\n",
    "    * cancel jobs \n",
    "    * find out information about my jobs\n"
   ]
  },
  {
   "cell_type": "markdown",
   "metadata": {
    "slideshow": {
     "slide_type": "slide"
    }
   },
   "source": [
    "## Scheduler\n",
    "\n",
    "Similarly to Balena, Janus, the phase 1 cloud HPC service uses a scheduler to manage how jobs are run and resources are allocated. \n",
    "\n",
    "If multiple jobs ran on a single node at the same time users would be competing for the same resources and jobs take longer to run overall. A scheduler manages individual jobs, which are allocated to the resources they need as they become available. This results in a higher overall throughput and more consistent performance.\n",
    "\n",
    "The scheduler used by Janus is the same as that used by Balena, `slurm`: _**S**_imple _**L**_inux _**U**_tility for _**R**_esource _**M**_anagment.\n"
   ]
  },
  {
   "cell_type": "markdown",
   "metadata": {},
   "source": [
    "### Slurm: Simple Linux Utility for Resource Managment\n",
    "\n",
    "INteracting with the sceduler is done through the terminal using an array of commands. \n",
    "\n",
    "Below are a number of key `slurm` commands:\n",
    "\n",
    "| Slurm command | Function |\n",
    "|---|---|\n",
    "| `sinfo` | View information about SLURM nodes and partitions |\n",
    "| `squeue` | List status of jobs in the **queue** |\n",
    "| `squeue --user [userid]` | Jobs by user |\n",
    "| `squeue --job [jobid]` | Jobs by jobid |\n",
    "| `sbatch [jobscript]` | Submit a jobscript to the scheduler |\n",
    "| `scancel [jobid]` | Cancel a job in the queue |\n",
    "| `scontrol hold [jobid]` | Hold a job in the queue |\n",
    "| `scontrol release [jobid]` | Release a held job |\n",
    "| `scontrol show job [jobid]` | View information about a job |\n",
    "| `scontrol show node nodename` | Get information of a node |\n",
    "| `scontrol show license` | Get licenses available on SLURM |"
   ]
  },
  {
   "cell_type": "markdown",
   "metadata": {
    "slideshow": {
     "slide_type": "slide"
    }
   },
   "source": [
    "## Key Points:\n",
    "- We use a scheduler to manage jobs on the cloud HPC service\n",
    "- Janus uses the slurm scheduler\n",
    "- Key commands are:\n",
    "    * `sbatch` to submit jobs\n",
    "    * `sinfo` to view information about the service\n",
    "    * `squeue` to view the queue\n",
    "    * `scancel` to delete a job\n",
    "\n",
    "You can find further information about slurm and the commands here: http://slurm.schedmd.com/"
   ]
  },
  {
   "cell_type": "code",
   "execution_count": null,
   "metadata": {},
   "outputs": [],
   "source": []
  }
 ],
 "metadata": {
  "celltoolbar": "Slideshow",
  "kernelspec": {
   "display_name": "Python 3",
   "language": "python",
   "name": "python3"
  },
  "language_info": {
   "codemirror_mode": {
    "name": "ipython",
    "version": 3
   },
   "file_extension": ".py",
   "mimetype": "text/x-python",
   "name": "python",
   "nbconvert_exporter": "python",
   "pygments_lexer": "ipython3",
   "version": "3.9.7"
  }
 },
 "nbformat": 4,
 "nbformat_minor": 2
}
