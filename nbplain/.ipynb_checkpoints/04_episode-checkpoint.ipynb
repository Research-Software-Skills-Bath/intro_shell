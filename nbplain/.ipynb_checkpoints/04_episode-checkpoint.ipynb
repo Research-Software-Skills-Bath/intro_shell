{
 "cells": [
  {
   "cell_type": "markdown",
   "id": "respective-summary",
   "metadata": {},
   "source": [
    "# Storage"
   ]
  },
  {
   "cell_type": "markdown",
   "id": "thorough-variation",
   "metadata": {},
   "source": [
    "## Overview:\n",
    "- **Teaching:** 10 min\n",
    "- **Exercises:** 0 min\n",
    "\n",
    "**Questions**\n",
    "- What storage is available?\n",
    "- How does this affect my workflow?\n",
    "- Where should I keep my data?\n",
    "\n",
    "\n",
    "**Objectives**\n",
    "- Understand the storage structure of the new system.\n",
    "- Know where to keep your data, and how to stage data for runs.\n",
    "- Understand the costs associated with storage.\n"
   ]
  },
  {
   "cell_type": "markdown",
   "id": "heated-automation",
   "metadata": {},
   "source": [
    "## Filesystem on Phase 1\n",
    "\n",
    "The filesystem on Janus, the phase 1 cloud HPC system, has the following layout:\n",
    "\n",
    "![storage](../images/storage.png)\n",
    "\n",
    "The areas of the filesystem you should know about are:\n",
    "\n",
    "* ```/shared/home```: 2TB Azure Managed Disk. Each user is given a home folder, with a strict quota of 5GB. You can check your quota usage with ```quota -s```. This area can be accessed from both the login and compute nodes. This disk is backed up daily, and could be used for storing e.g.:\n",
    "    - Code/scripts for your calculations\n",
    "    - Template jobscripts\n",
    "\n",
    "* ```/campaign/```: 16TB Azure NetApp Files Standard. This is mid performance filesystem which should be used for files required during your current project workflow, for example any datasets you require to complete the current project thrust you are working on. It is <font size=\"3\">**not backed up**</font>, and should not be used for storing important results. You should ensure you have the capacity elsewhere to back up any important data. This space should be used for staging data to the ```/scratch/``` space during a calculation, which should then be moved off the ```/scratch/``` area and back to campaign following completion of the run. This space can be accessed from both the login and compute nodes.\n",
    "\n",
    "* ```/scratch/```: 16TB Azure NetApps Files Ultra. This is a high performance filesytem which can be used during your calculation runs. There is no quota, **however** because of the high associated cost with this storage type there is limited space for all users. You should stage your data required for a run from ```/campaign/``` into this space. Data should only be left on ```/scratch/``` during an active run, and should be copied back to ```/campaign``` following its successful completion. It is <font size=\"3\">**not backed up**</font> and should not be used for storing data. This psace can be accessed from both the login and compute nodes.\n",
    "\n",
    "* ```/apps/```: 1TB Azure managed Disk. This space contains centrally compiled software for use of users.\n",
    "\n",
    "* ```/u/```: The University `H` drive is mounted and can be accessed from the login nodes only.\n",
    "\n",
    "* ```/mnt/resource/```: Some compute instances have fast local storage located in this area, only accessible from the compute node. e.g. HBv3 (450GB), HBv2(450GB), HB(450GB), HC44(650GB) \n"
   ]
  },
  {
   "cell_type": "markdown",
   "id": "urban-adoption",
   "metadata": {},
   "source": [
    "## Exercise: Quota and disk usage\n",
    "\n",
    "We saw earlier that you have a 5GB quota for your home area.  Check your home area quota using the following commands:-\n",
    "\n",
    "```bash\n",
    "$ quota\n",
    "$ quota -s\n",
    "```\n",
    "\n",
    "You can also use the df command we saw earlier to check partition size and usage information\n",
    "```bash\n",
    "$ df -h\n",
    "```"
   ]
  },
  {
   "cell_type": "markdown",
   "id": "union-while",
   "metadata": {},
   "source": [
    "### Environment Variables\n",
    "\n",
    "There are several environment variables to help you navigate the filesystem.\n",
    "\n",
    "*```$HOME```: /shared/home/<username> your home directory\n",
    "\n",
    "*```$SCRATCH```: /scratch/<username> your scratch directory\n",
    "    \n",
    "*```$CAMPAIGN```: /campaign/<username> your campaign directory\n",
    "\n",
    "*```$BUCSHOME```: /u/u/<username> your University `H` folder"
   ]
  },
  {
   "cell_type": "markdown",
   "id": "southern-governor",
   "metadata": {},
   "source": [
    "## Exercise: Go home\n",
    "\n",
    "How can we use the environment variables we've used above to return to our `home` directory?\n",
    "\n",
    "[Solution]()"
   ]
  },
  {
   "cell_type": "markdown",
   "id": "acting-template",
   "metadata": {},
   "source": [
    "## Solution: Go home\n",
    "\n",
    "We can use the `$HOME` variable in exactly the same way as we used `$SCRATCH`:\n",
    "\n",
    "```bash\n",
    "cd $HOME\n",
    "pwd\n",
    "```"
   ]
  },
  {
   "cell_type": "code",
   "execution_count": null,
   "id": "standard-rotation",
   "metadata": {},
   "outputs": [],
   "source": []
  }
 ],
 "metadata": {
  "kernelspec": {
   "display_name": "Python 3",
   "language": "python",
   "name": "python3"
  },
  "language_info": {
   "codemirror_mode": {
    "name": "ipython",
    "version": 3
   },
   "file_extension": ".py",
   "mimetype": "text/x-python",
   "name": "python",
   "nbconvert_exporter": "python",
   "pygments_lexer": "ipython3",
   "version": "3.9.7"
  }
 },
 "nbformat": 4,
 "nbformat_minor": 5
}
