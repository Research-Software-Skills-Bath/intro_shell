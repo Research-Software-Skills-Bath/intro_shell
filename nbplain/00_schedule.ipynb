{
 "cells": [
  {
   "cell_type": "markdown",
   "metadata": {
    "slideshow": {
     "slide_type": "slide"
    }
   },
   "source": [
    "# RSS @ University of Bath: Introducing the Shell\n",
    "\n",
    "## The Unix Shell\n",
    "\n",
    "The Unix shell has been around longer than most of its users have been alive. It has survived so long because it's a power tool that allows people to do complex things with just a few keystrokes. More importantly, it helps them combine existing programs in new ways and automate repetitive tasks so they aren't typing the same things over and over again. Use of the shell is fundamental to using a wide range of other powerful tools and computing resources (including \"high-performance computing\" supercomputers). These lessons will start you on a path towards using these resources effectively."
   ]
  },
  {
   "cell_type": "markdown",
   "metadata": {
    "slideshow": {
     "slide_type": "slide"
    }
   },
   "source": [
    "The following workshop is an introduction to the shell provided by the *Research Software Skills* team and the Research Computing team from the University of Bath, derived from the [Software Carpentry](https://software-carpentry.org/) lesson of the same name, under [CC BY 4.0](https://creativecommons.org/licenses/by/4.0/)."
   ]
  },
  {
   "cell_type": "markdown",
   "metadata": {
    "slideshow": {
     "slide_type": "slide"
    }
   },
   "source": [
    "## Schedule\n",
    "\n",
    "Approximate timings for the lesson:\n",
    "\n",
    "| Time | Episode | Description |\n",
    "|---|---|---|\n",
    "| 0:00 | [Getting Set-Up](./01_getting_setup.ipynb)| Setting up for the Workshop|\n",
    "| 0:05 | [Introducing the shell](./02_introducing_the_shell.ipynb)| What is a command shell and why would I use one?|\n",
    "| 0:15 | [Navigating Files and Directories](./03_navigatingFD.ipynb) | How can I move around on my computer? |\n",
    "|  -   |                     -                                 | How can I see what files and directories I have?|\n",
    "|  -   |                     -                                 | How can I specify the location of a file or directory on my computer?  |\n",
    "| 0:45 | [Working with Files and Directories](./04_workingFD.ipynb) | How can I create, copy, and delete files and directories? |\n",
    "|  -   |                     -                                      |How can I edit files? |\n",
    "| 1:35 | [Pipes and Filters](./05_pipesNfilters.ipynb) | How can I combine existing commands to do new things? |\n",
    "| 2:10 | [Loops](./06_loops.ipynb) | How can perform the same actions on many different files |\n",
    "| 3:00 | [Shell Scripts](./07_shellscripts.ipynb) |How can I save and reuse commands|\n",
    "| 3:45 | [Finding Things](./08_findingThings.ipynb) | How can I find files? |\n",
    "| - | - | How can I find things in files? |\n",
    "| 4:30 | Finish | |\n"
   ]
  },
  {
   "cell_type": "markdown",
   "metadata": {},
   "source": []
  }
 ],
 "metadata": {
  "celltoolbar": "Slideshow",
  "kernelspec": {
   "display_name": "Python 3",
   "language": "python",
   "name": "python3"
  },
  "language_info": {
   "codemirror_mode": {
    "name": "ipython",
    "version": 3
   },
   "file_extension": ".py",
   "mimetype": "text/x-python",
   "name": "python",
   "nbconvert_exporter": "python",
   "pygments_lexer": "ipython3",
   "version": "3.9.7"
  }
 },
 "nbformat": 4,
 "nbformat_minor": 2
}
