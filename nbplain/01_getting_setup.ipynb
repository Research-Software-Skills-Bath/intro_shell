{
 "cells": [
  {
   "cell_type": "markdown",
   "metadata": {},
   "source": [
    "# Getting Set-Up"
   ]
  },
  {
   "cell_type": "markdown",
   "metadata": {},
   "source": [
    "## Overview:\n",
    "\n",
    "- **Teaching:** 5 min\n",
    "- **Exercises:** 0 min\n",
    "\n",
    "**Questions**\n",
    "- Where can I run the shell?\n",
    "- What are Jupyterhub and notebooks?\n",
    "\n",
    "**Objectives**\n",
    "- Log onto the JupyterHub Server for the lesson\n",
    "- Open a terminal on the Server\n",
    "- Copy the files necessary for this lesson"
   ]
  },
  {
   "cell_type": "markdown",
   "metadata": {},
   "source": [
    "This episode details how to get started on the Jupyterhub Server (normally used for notebooks) and accessing the terminal. This service runs a common Linux operating system with similar appearance to that found on MacOs and HPC services. You can access this service from any PC or laptop by in your web browser."
   ]
  },
  {
   "cell_type": "markdown",
   "metadata": {},
   "source": [
    "## Getting Started\n",
    "\n",
    "First we need to log-on to the server: https://astro.jupyterhub.bath.ac.uk, you should be redirected to use your University account via the Microsoft web login.  This should start a jupyterhub service running on the server and return you to a page that looks like:\n",
    "\n",
    "![Create new notebook](../images/01/jhub.png)"
   ]
  },
  {
   "cell_type": "markdown",
   "metadata": {},
   "source": [
    "You should have a number of files in your home folder.  Click on `Welcome.ipynb` to find out more about this service.  Click on the `Intro to the shell` link and follow the instructions to set up material for this course."
   ]
  },
  {
   "cell_type": "markdown",
   "metadata": {},
   "source": [
    "## Opening a Terminal\n",
    "From the JupyterHub server homepage click the `New` dropdown button and select `Terminal`. \n",
    "![Open new terminal](../images/01/jhub_terminal.png)"
   ]
  },
  {
   "cell_type": "markdown",
   "metadata": {},
   "source": [
    "This should open a terminal session in a fresh window for you:\n",
    "\n",
    "![New terminal](../images/01/terminal.png)\n",
    "\n"
   ]
  },
  {
   "cell_type": "markdown",
   "metadata": {},
   "source": [
    "## Information: Opening a shell on your system\n",
    "\n",
    "You can of course open a terminal on your own system, rather than the remote JupyterHub server.\n",
    "\n",
    "### Windows:\n",
    "Computers with Windows operating systems do not automatically have a Unix Shell program installed. In this lesson, we encourage you to use an emulator included in [Git for Windows](https://carpentries.github.io/workshop-template/#shell), which gives you access to both Bash shell commands and Git.\n",
    "\n",
    "Once installed, you can open a terminal by running the program Git Bash from the Windows start menu.\n",
    "\n",
    "For advanced users:\n",
    "\n",
    "As an alternative to Git for Windows you may wish to [Install the Windows Subsystem for Linux](https://docs.microsoft.com/en-us/windows/wsl/install-win10) which gives access to a Bash shell command-line tool in Windows 10.\n",
    "\n",
    "Please note that commands in the Windows Subsystem for Linux (WSL) may differ slightly from those shown in the lesson or presented in the workshop.\n",
    "\n",
    "### macOS:\n",
    "\n",
    "For a Mac computer running macOS Mojave or earlier releases, the default Unix Shell is Bash. For a Mac computer running macOS Catalina or later releases, the default Unix Shell is Zsh. Your default shell is available via the Terminal program within your Utilities folder.\n",
    "\n",
    "To open Terminal, try one or both of the following:\n",
    "\n",
    "In Finder, select the Go menu, then select Utilities. Locate Terminal in the Utilities folder and open it.\n",
    "Use the Mac ‘Spotlight’ computer search function. Search for: Terminal and press Return.\n",
    "To check if your machine is set up to use something other than Bash, type echo $SHELL in your terminal window.\n",
    "\n",
    "If your machine is set up to use something other than Bash, you can run it by opening a terminal and typing bash.\n",
    "\n",
    "[How to Use Terminal on a Mac](http://www.macworld.co.uk/feature/mac-software/how-use-terminal-on-mac-3608274/)\n",
    "\n",
    "### Linux:\n",
    "\n",
    "The default Unix Shell for Linux operating systems is usually Bash. On most versions of Linux, it is accessible by running the Gnome Terminal or KDE Konsole or xterm, which can be found via the applications menu or the search bar. If your machine is set up to use something other than Bash, you can run it by opening a terminal and typing bash."
   ]
  },
  {
   "cell_type": "markdown",
   "metadata": {},
   "source": [
    "## Key Points:\n",
    "\n",
    "- You should now be logged into the JupyterHub server, with a terminal open and have copied the course material for the course over. "
   ]
  },
  {
   "cell_type": "markdown",
   "metadata": {},
   "source": []
  }
 ],
 "metadata": {
  "language_info": {
   "name": "python"
  },
  "orig_nbformat": 4
 },
 "nbformat": 4,
 "nbformat_minor": 2
}
