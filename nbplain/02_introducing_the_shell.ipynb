{
 "cells": [
  {
   "cell_type": "markdown",
   "metadata": {},
   "source": [
    "# Introducing the Shell"
   ]
  },
  {
   "cell_type": "markdown",
   "metadata": {},
   "source": [
    "## Overview:\n",
    "\n",
    "- **Teaching:** 5 min\n",
    "- **Exercises:** 0 min\n",
    "\n",
    "**Questions**\n",
    "- Where can I run the shell?\n",
    "- What are Jupyterhub and notebooks?\n",
    "\n",
    "**Objectives**\n",
    "- Log onto the JupyterHub Server for the lesson\n",
    "- Open a terminal on the Server\n",
    "- Copy the files necessary for this lesson"
   ]
  },
  {
   "cell_type": "markdown",
   "metadata": {},
   "source": []
  }
 ],
 "metadata": {
  "language_info": {
   "name": "python"
  },
  "orig_nbformat": 4
 },
 "nbformat": 4,
 "nbformat_minor": 2
}
