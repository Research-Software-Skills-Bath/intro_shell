{
 "cells": [
  {
   "cell_type": "markdown",
   "metadata": {
    "slideshow": {
     "slide_type": "slide"
    }
   },
   "source": [
    "# Navigating Files and Directories"
   ]
  },
  {
   "cell_type": "markdown",
   "metadata": {
    "slideshow": {
     "slide_type": "subslide"
    }
   },
   "source": [
    "## Overview:\n",
    "\n",
    "- **Teaching:** 20 min\n",
    "- **Exercises:** 10 min\n",
    "\n",
    "**Questions**\n",
    "- How can I move around on my computer?\n",
    "- How can I see what files and directories I have?\n",
    "- How can I specify the location of a file or directory on my computer?\n",
    "\n",
    "**Objectives**\n",
    "- Explain the similarities and differences between a file and a directory.\n",
    "- Translate an absolute path into a relative path and vice versa.\n",
    "- Construct absolute and relative paths that identify specific files and directories.\n",
    "- Explain the steps in the shell’s read-run-print cycle.\n",
    "- Identify the actual command, flags, and filenames in a command-line call.\n",
    "- Demonstrate the use of tab completion, and explain its advantages."
   ]
  },
  {
   "cell_type": "markdown",
   "metadata": {
    "slideshow": {
     "slide_type": "slide"
    }
   },
   "source": [
    "<div class=\"alert alert-block alert-info\">\n",
    "<b>Info:</b> In this lesson, we will use the username `jupyter-user` or `nelle` (associated with our hypothetical scientist Nelle) in example input and output throughout.\n",
    "However, when you type this lesson’s commands on your computer or another system, you could see and use something different, namely, the username associated with the user account on your computer. This username will be the output from `whoami`. On other systems, in what follows, `jupyter-user` or `nelle` should always be replaced by that username. \n",
    "</div>"
   ]
  },
  {
   "cell_type": "markdown",
   "metadata": {
    "slideshow": {
     "slide_type": "slide"
    }
   },
   "source": [
    "## The linux file system\n",
    "\n",
    "The part of the operating system responsible for managing files and directories is called the **file system**. It organizes our data into files, which hold information, and directories (also called \"folders\"), which hold files or other directories.\n",
    "\n",
    "Several commands are frequently used to create, inspect, rename, and delete files and directories. To start exploring them, we'll go to our open shell window."
   ]
  },
  {
   "cell_type": "markdown",
   "metadata": {
    "slideshow": {
     "slide_type": "slide"
    }
   },
   "source": [
    "First let's find out where we are by running a command called `pwd` (which stands for \"print working directory\"). Directories are like places - at any time while we are using the shell we are in exactly one place, called our current working directory. Commands mostly read and write files in the **current(present) working directory**, i.e. \"here\", so knowing where you are before running a command is important. `pwd` shows you where you are:"
   ]
  },
  {
   "cell_type": "markdown",
   "metadata": {
    "slideshow": {
     "slide_type": "fragment"
    }
   },
   "source": [
    "``` Bash\n",
    "jupyter-user~:$pwd\n",
    "/jupyter/jupyter-user\n",
    "```"
   ]
  },
  {
   "cell_type": "markdown",
   "metadata": {
    "slideshow": {
     "slide_type": "subslide"
    }
   },
   "source": [
    "This is known as our **home directory**. "
   ]
  },
  {
   "cell_type": "markdown",
   "metadata": {},
   "source": [
    "## Information\n",
    "The home directory path will look different on different operating systems. On our JupyterHub server our home directory is in `/jupyter/jupyter-user`, on Linux it may look like `/home/jupyter-user`, and on Windows it will be similar to `C:\\Documents and Settings\\jupyter-user` or `C:\\Users\\jupyter-user`.\n",
    "\n",
    "(Note that it may look slightly different for different versions of Windows.)\n"
   ]
  },
  {
   "cell_type": "markdown",
   "metadata": {},
   "source": [
    "To understand what a \"home directory\" is, let's have a look at how the file system as a whole is organized. For the sake of this example, we'll be illustrating the filesystem on our scientist Nelle's computer. After this illustration, you'll be learning commands to explore your own filesystem, which will be constructed in a similar way, but not be exactly identical."
   ]
  },
  {
   "cell_type": "markdown",
   "metadata": {
    "slideshow": {
     "slide_type": "subslide"
    }
   },
   "source": [
    "For example, on Nelle's computer, the filesystem looks like this:\n",
    "\n",
    "![Nelle's filesystem](../images/03/filesystem.svg)\n",
    "\n",
    "At the top is the root directory that holds everything else. We refer to it using a slash character, `/`, on its own; this is the leading slash in `/Users/nelle`."
   ]
  },
  {
   "cell_type": "markdown",
   "metadata": {
    "slideshow": {
     "slide_type": "subslide"
    }
   },
   "source": [
    "Inside that directory are several other directories: `bin` (which is where some built-in programs are stored), `data` (for miscellaneous data files), `Users` (where users' personal directories are located), `tmp` (for temporary files that don't need to be stored long-term), and so on.\n",
    "\n",
    "We know that our current working directory `/jupyter/jupyter-username` is stored inside `/jupyter/` as `/jupyter/` is the first part of its name. In the same way Nell's home directory `/Users/nelle` is stored inside `/Users` because `/Users` is the first part of its name. Similarly, we know that `/Users` is stored inside the root directory `/` because its name begins with `/`."
   ]
  },
  {
   "cell_type": "markdown",
   "metadata": {
    "slideshow": {
     "slide_type": "slide"
    }
   },
   "source": [
    "## Information: Slashes\n",
    "Notice that there are two meanings for the `/` character. When it appears at the front of a file or directory name, it refers to the root directory. When it appears *inside* a name, it's just a separator."
   ]
  },
  {
   "cell_type": "markdown",
   "metadata": {
    "slideshow": {
     "slide_type": "subslide"
    }
   },
   "source": [
    "Underneath `/Users`, we find one directory for each user with an account on Nelle's machine, her colleagues the Mummy and Wolfman.\n",
    "\n",
    "![](../images/03/home-directories.svg)\n",
    "\n",
    "The Mummy's files are stored in `/Users/imhotep`, Wolfman's in `/Users/larry`, and Nelle's in `Users/nelle`. Because Nelle is the user in our examples here, this is why we get `/Users/nelle` as our home directory.\n",
    "Typically, when you open a new command prompt you will be in your home directory to start.\n",
    "\n",
    "Now let's learn the command that will let us see the contents of our own filesystem. We can see what's in the `data-shell` directory by running `ls`, which stands for \"listing\":"
   ]
  },
  {
   "cell_type": "markdown",
   "metadata": {},
   "source": [
    "```Bash\n",
    "jupyter-user:~$ls\n",
    "IntroShell  Welcome.ipynb  courses\n",
    "```"
   ]
  },
  {
   "cell_type": "markdown",
   "metadata": {
    "slideshow": {
     "slide_type": "subslide"
    }
   },
   "source": [
    "`ls` prints the names of the files and directories in the current directory. We can make its output more comprehensible by using the **flag** `-F` (also known as a **switch** or an **option**) , which tells `ls` to add a marker to file and directory names to indicate what they are:\n",
    " "
   ]
  },
  {
   "cell_type": "markdown",
   "metadata": {},
   "source": [
    "```Bash\n",
    "jupyter-user:~$ls -F\n",
    "IntroShell/  Welcome.ipynb@  courses@\n",
    "```"
   ]
  },
  {
   "cell_type": "markdown",
   "metadata": {},
   "source": [
    "\n",
    "- A trailing `/` indicates that this is a directory\n",
    "- @ indicates a link\n",
    "- `*` indicates an executable\n",
    "\n",
    "Depending on your settings, it might also use colors to indicate the entry types. Any names that don;t have a classification symbol are just plain old files."
   ]
  },
  {
   "cell_type": "markdown",
   "metadata": {
    "slideshow": {
     "slide_type": "slide"
    }
   },
   "source": [
    "## Getting help\n",
    "\n",
    "`ls` has lots of other flags. There are two common ways to find out how to use a command and what flags it accepts:\n",
    "\n",
    "1. We can pass a `--help` flag to the command, such as: `ls --help`\n",
    "2. We can read its manual with man, such as: `man ls`\n",
    "\n",
    "**Depending on your environment you might find that only one of these works (either `man` or `--help`)**. We'll describe both ways below."
   ]
  },
  {
   "cell_type": "markdown",
   "metadata": {
    "slideshow": {
     "slide_type": "subslide"
    }
   },
   "source": [
    "### The `--help` flag\n",
    "\n",
    "Many bash commands, and programs that people have written that can be run from within bash, support a `--help` flag to display more information on how to use the command or program:\n",
    "\n",
    "```Bash\n",
    "jupyter-user:~$ls --help\n",
    "Usage: ls [OPTION]... [FILE]...\n",
    "List information about the FILEs (the current directory by default).\n",
    "Sort entries alphabetically if none of -cftuvSUX nor --sort is specified.\n",
    "\n",
    "Mandatory arguments to long options are mandatory for short options too.\n",
    "  -a, --all                  do not ignore entries starting with .\n",
    "  -A, --almost-all           do not list implied . and ..\n",
    "      --author               with -l, print the author of each file\n",
    "  -b, --escape               print C-style escapes for nongraphic characters\n",
    "      --block-size=SIZE      scale sizes by SIZE before printing them; e.g.,\n",
    "                               '--block-size=M' prints sizes in units of\n",
    "                               1,048,576 bytes; see SIZE format below\n",
    "  -B, --ignore-backups       do not list implied entries ending with ~\n",
    "  -c                         with -lt: sort by, and show, ctime (time of last\n",
    "                               modification of file status information);\n",
    "                               with -l: show ctime and sort by name;\n",
    "                               otherwise: sort by ctime, newest first\n",
    "...\n",
    "...\n",
    "...\n",
    "```\n",
    "                        \n",
    "\n"
   ]
  },
  {
   "cell_type": "markdown",
   "metadata": {
    "slideshow": {
     "slide_type": "slide"
    }
   },
   "source": [
    "### The `man` command\n",
    "The other way to learn about ls is to type: \n",
    "\n",
    "```bash\n",
    "jupyter-user:~$man ls\n",
    "LS(1)                                                User Commands                                                LS(1)\n",
    "\n",
    "NAME\n",
    "       ls - list directory contents\n",
    "\n",
    "SYNOPSIS\n",
    "       ls [OPTION]... [FILE]...\n",
    "\n",
    "DESCRIPTION\n",
    "       List  information  about  the  FILEs (the current directory by default).  Sort entries alphabetically if none of\n",
    "       -cftuvSUX nor --sort is specified.\n",
    "\n",
    "       Mandatory arguments to long options are mandatory for short options too.\n",
    "\n",
    "       -a, --all\n",
    "              do not ignore entries starting with .\n",
    "\n",
    "       -A, --almost-all\n",
    "              do not list implied . and ..\n",
    "\n",
    "       --author\n",
    "              with -l, print the author of each file\n",
    "\n",
    "       -b, --escape\n",
    "              print C-style escapes for nongraphic characters\n",
    "...\n",
    "...\n",
    "...\n",
    "```\n",
    "\n",
    "`man` is a command that will display the manual with more information for a command/program if it is present. "
   ]
  },
  {
   "cell_type": "markdown",
   "metadata": {
    "slideshow": {
     "slide_type": "subslide"
    }
   },
   "source": [
    "This will turn your terminal into a page with a description of the `ls` command and its options and, if you're lucky, some examples of how to use it.\n",
    "\n",
    "To navigate through the `man` pages, you may use `↑` and `↓` to move line-by-line, or try `B` and `Spacebar` to skip up and down by a full page. To search for a character or word in the man pages, use `/` followed by the character or word you are searching for.\n",
    "\n",
    "To **quit** the `man` pages, press `Q`."
   ]
  },
  {
   "cell_type": "markdown",
   "metadata": {},
   "source": [
    "## Information: Manual pages on the web\n",
    "Of course there is a third way to access help for commands: searching the internet via your web browser. When using internet search, including the phrase `unix man page` in your search query will help to find relevant results.\n",
    "\n",
    "GNU provides links to its [manuals](http://www.gnu.org/manual/manual.html) including the [core GNU utilities](http://www.gnu.org/software/coreutils/manual/coreutils.html), which covers many commands introduced within this lesson."
   ]
  },
  {
   "cell_type": "markdown",
   "metadata": {},
   "source": [
    "## Exercise: ls options\n",
    "\n",
    "inspect the manual, or the output from `ls --help` and issue a flag to `ls` that isnt listed. What happens?\n",
    "\n",
    "[Solution]()"
   ]
  },
  {
   "cell_type": "markdown",
   "metadata": {},
   "source": [
    "## Solution: ls options\n",
    "\n",
    "If you try to use an option (flag) that is not supported, `ls` and other programs will usually print an error message similar to:\n",
    "```bash\n",
    "jupyter-user:~$ls -j\n",
    "ls: invalid option -- 'j'\n",
    "Try 'ls --help' for more information.\n",
    "```"
   ]
  },
  {
   "cell_type": "markdown",
   "metadata": {
    "slideshow": {
     "slide_type": "slide"
    }
   },
   "source": [
    "## Exercise: Exploring More `ls` Flags\n",
    "What does the command `ls` do when used with the `-l` and `-h` flags?\n",
    "\n",
    "Some of its output is about properties that we do not cover in this lesson (such as file permissions and ownership), but the rest should be useful nevertheless.\n",
    "\n",
    "[Solution]()"
   ]
  },
  {
   "cell_type": "markdown",
   "metadata": {
    "slideshow": {
     "slide_type": "slide"
    }
   },
   "source": [
    "## Solution: Exploring More ls Flags\n",
    "The `-l` flag makes `ls` use a long listing format, showing not only the file/directory names but also additional information such as the file size and the time of its last modification. The `-h` flag makes the file size \"human readable\", i.e. display something like `5.3K` instead of `5369`."
   ]
  },
  {
   "cell_type": "markdown",
   "metadata": {
    "slideshow": {
     "slide_type": "slide"
    }
   },
   "source": [
    "## Exercise: Listing Recursively and By Time\n",
    "The command `ls -R` lists the contents of directories recursively, i.e., lists their sub-directories, sub-sub-directories, and so on at each level. The command `ls -t` lists things by time of last change, with most recently changed files or directories first. In what order does `ls -R -t` display things? Hint: `ls -l` uses a long listing format to view timestamps.\n",
    "\n",
    "[Solution]()"
   ]
  },
  {
   "cell_type": "markdown",
   "metadata": {
    "slideshow": {
     "slide_type": "slide"
    }
   },
   "source": [
    "## Solution: Listing Recursively and By Time\n",
    "The files/directories in each directory are sorted by time of last change."
   ]
  },
  {
   "cell_type": "markdown",
   "metadata": {
    "slideshow": {
     "slide_type": "slide"
    }
   },
   "source": [
    "## Exploring other directories\n",
    "\n",
    "Not only can we use ls on the current working directory, but we can use it to list the contents of a different directory. Let’s take a look at the one of the directories in our home directory by running:\n",
    "\n",
    "```Bash\n",
    "jupyter-user:~$ls -F IntroShell\n",
    "data/\n",
    "```\n",
    ", i.e., the command ls with the -F option and the argument `IntroShell`. The argument `IntroShell` tells ls that we want a listing of something other than our current working directory, and we can see that in the `IntroShell` directory there is another directory called `data`.\n",
    "\n",
    "As you may now see, using a bash shell is strongly dependent on the idea that your files are organized in a hierarchical file system. Organizing things hierarchically in this way helps us keep track of our work: it’s possible to put hundreds of files in our home directory, just as it’s possible to pile hundreds of printed papers on our desk, but it’s a self-defeating strategy.\n",
    "\n"
   ]
  },
  {
   "cell_type": "markdown",
   "metadata": {},
   "source": [
    "## Exercise: Exploring further\n",
    "\n",
    "List the contents of the `data` folder.\n",
    "\n",
    "[Solution]()"
   ]
  },
  {
   "cell_type": "markdown",
   "metadata": {},
   "source": [
    "## Solution: Exploring Further\n",
    "\n",
    "We can see what is in the `data` folder by passing the firectory name as an argument to `ls` in the same way as before.\n",
    "\n",
    "```Bash\n",
    "jupyter-user:~$ls -F IntroShell/data\n",
    "shell-lession-data\n",
    "```"
   ]
  },
  {
   "cell_type": "markdown",
   "metadata": {
    "slideshow": {
     "slide_type": "slide"
    }
   },
   "source": [
    "We if we wish to change our location to a different directory, so we are no longer located in our home directory.\n",
    "\n",
    "The command to change locations is `cd` followed by a directory name to change our working directory. `cd` stands for “change directory” i.e. thischanges the directory we are located in.\n",
    "\n",
    "Let’s say we want to move to the `IntroShell/` directory. We can use the following command to get there:"
   ]
  },
  {
   "cell_type": "markdown",
   "metadata": {
    "slideshow": {
     "slide_type": "slide"
    }
   },
   "source": [
    "```Bash\n",
    "jupyter-user:~$cd IntroShell\n",
    "````"
   ]
  },
  {
   "cell_type": "markdown",
   "metadata": {},
   "source": [
    "## Exercise: Confirming the change\n",
    "\n",
    "How can we see the directory we are located in and confirm it has changed.\n",
    "\n",
    "[Solution]()\n"
   ]
  },
  {
   "cell_type": "markdown",
   "metadata": {},
   "source": [
    "## Solution: Confirming the change\n",
    "\n",
    "Use the `pwd` command we learned earlier:\n",
    "```Bash\n",
    "jupyter-user:~$pwd\n",
    "/jupyter/jupyter-user/IntroShell\n",
    "````"
   ]
  },
  {
   "cell_type": "markdown",
   "metadata": {
    "slideshow": {
     "slide_type": "slide"
    }
   },
   "source": [
    "## Exercise: Change directory again\n",
    "We know this directory contains a further directory, known as a **subdirectory**. Check what the directory is called again and then move to this directory.\n",
    "\n",
    "[Solution]()"
   ]
  },
  {
   "cell_type": "markdown",
   "metadata": {},
   "source": [
    "## Solution: Change directory again\n",
    "\n",
    "We check the contents of the `IntroShell` folder with again with `ls`:\n",
    "\n",
    "```Bash\n",
    "jupyter-user:~$ls\n",
    "data\n",
    "````\n",
    "\n",
    "and then move into the directory with the `cd` command:\n",
    "\n",
    "```Bash\n",
    "jupyter-user:~$cd data\n",
    "jupyter-user:~$pwd\n",
    "/jupyter/jupyter-user/IntroShell/data\n",
    "````"
   ]
  },
  {
   "cell_type": "markdown",
   "metadata": {
    "slideshow": {
     "slide_type": "slide"
    }
   },
   "source": [
    "## Exercise: And once more for luck\n",
    "Here, we can see that our `data` directory contains another subdirectory, `shell-lesson-data`, confirm this and move to `shell-lesson-data`, then display the contents.\n",
    "\n",
    "[Solution]()"
   ]
  },
  {
   "cell_type": "markdown",
   "metadata": {},
   "source": [
    "## Solution: And once more for luck\n",
    "\n",
    "\n",
    "\n",
    "```Bash\n",
    "jupyter-user:~$ls\n",
    "shell-lesson-data\n",
    "jupyter-user:~$cd shell-lesson-data\n",
    "jupyter-user:~$pwd\n",
    "/jupyter/jupyter-user/IntroShell/data/shell-lesson-data\n",
    "jupyter-user:~$ls -F\n",
    "exercise-data/  north-pacific-gyre/\n",
    "````\n"
   ]
  },
  {
   "cell_type": "markdown",
   "metadata": {
    "slideshow": {
     "slide_type": "slide"
    }
   },
   "source": [
    "We now know how to go down the directory tree (i.e. how to go into a subdirectory), but how do we go up (i.e. how do we leave a directory and go into its parent directory)? We might try the following:\n",
    "\n",
    "```Bash\n",
    "jupyter-user:~$cd data\n",
    "bash: cd: data: No such file or directory\n",
    "````"
   ]
  },
  {
   "cell_type": "markdown",
   "metadata": {
    "slideshow": {
     "slide_type": "subslide"
    }
   },
   "source": [
    "But we get an error! Why is this?\n",
    "\n",
    "With our methods so far, `cd` can only see sub-directories inside your current directory. There are different ways to see directories above your current location; we'll start with the simplest."
   ]
  },
  {
   "cell_type": "markdown",
   "metadata": {
    "slideshow": {
     "slide_type": "subslide"
    }
   },
   "source": [
    "There is a shortcut in the shell to move up one directory level that looks like this:"
   ]
  },
  {
   "cell_type": "markdown",
   "metadata": {
    "slideshow": {
     "slide_type": "fragment"
    }
   },
   "source": [
    "```Bash\n",
    "jupyter-user:~$cd ..\n",
    "```"
   ]
  },
  {
   "cell_type": "markdown",
   "metadata": {
    "slideshow": {
     "slide_type": "subslide"
    }
   },
   "source": [
    "`..` is a special directory name meaning \"the directory containing this one\", or more succinctly, the parent of the current directory. Sure enough, if we run `pwd` after running `cd ..`, we're back in `/jupyter/jupyter-user/IntroShell/data`:\n",
    "```Bash\n",
    "jupyter-user:~$pwd\n",
    "/jupyter/jupyter-cor22/IntroShell/data\n",
    "```"
   ]
  },
  {
   "cell_type": "markdown",
   "metadata": {
    "slideshow": {
     "slide_type": "subslide"
    }
   },
   "source": [
    "The special directory `..` doesn't usually show up when we run `ls`. If we want to display it, we can give `ls` the `-a` flag:\n",
    "```Bash\n",
    "jupyter-user:~$ls -a\n",
    ".  ..  shell-lesson-data\n",
    "```"
   ]
  },
  {
   "cell_type": "markdown",
   "metadata": {
    "slideshow": {
     "slide_type": "subslide"
    }
   },
   "source": [
    "`-a` stands for \"show all\"; it forces ls to show us file and directory names that begin with `.`, such as `..` (which, if we're in `/jupyter/jupyter-user/IntroShell/data`, refers to the `/jupyter/jupyter-user/IntroShell` directory) As you can see, it also displays another special directory that's just called `.`."
   ]
  },
  {
   "cell_type": "markdown",
   "metadata": {},
   "source": [
    "## Exercise: Special Directory\n",
    "WHere does the `.` special directory refer to?"
   ]
  },
  {
   "cell_type": "markdown",
   "metadata": {},
   "source": [
    "## Solution: Special Directory\n",
    "\n",
    "We can check where the special directory `.` refers to by changing directory to it and issuing the `pwd` command:\n",
    "\n",
    "```Bash\n",
    "jupyter-user:$cd .\n",
    "jupyter-user:$pwd\n",
    "/jupyter/jupyter-user/IntroShell/data\n",
    "```"
   ]
  },
  {
   "cell_type": "markdown",
   "metadata": {},
   "source": [
    "`.`  means \"the current working directory\". It may seem redundant to have a name for it, but we'll see some uses for it soon.\n",
    "\n",
    "Note that in most command line tools, multiple flags can be combined with a single `-` and no spaces between the flags: `ls -F -a` is equivalent to `ls -Fa`."
   ]
  },
  {
   "cell_type": "markdown",
   "metadata": {
    "slideshow": {
     "slide_type": "subslide"
    }
   },
   "source": [
    "We can get back to the `IntroShell` directory the same way:\n",
    "```Bash\n",
    "jupyter-user:$cd ..\n",
    "jupyter-user:$pwd\n",
    "/jupyter/jupyter-user/IntroShell\n",
    "```"
   ]
  },
  {
   "cell_type": "markdown",
   "metadata": {
    "slideshow": {
     "slide_type": "slide"
    }
   },
   "source": [
    "## Information: Other Hidden Files\n",
    "In addition to the hidden directories `..` and `.`, you may also see a file called `.bash_profile`. This file usually contains shell configuration settings. You may also see other files and directories beginning with `.`. These are usually files and directories that are used to configure different programs on your computer. The prefix `.` is used to prevent these configuration files from cluttering the terminal when a standard `ls` command is used."
   ]
  },
  {
   "cell_type": "markdown",
   "metadata": {
    "slideshow": {
     "slide_type": "slide"
    }
   },
   "source": [
    "Let's try returning to the `shell-lesson-data` directory in the `data` directory, which we saw before. Last time, we used two commands, but we can actually string together the list of directories to move to `shell-lesson-data` in one step:\n",
    "\n",
    "```Bash\n",
    "jupyter-user:$cd data/shell-lesson-data\n",
    "```\n"
   ]
  },
  {
   "cell_type": "markdown",
   "metadata": {
    "slideshow": {
     "slide_type": "subslide"
    }
   },
   "source": [
    "Check that we've moved to the right place by running `pwd` and `ls -F`\n",
    "\n",
    "If we want to move up one level from the data directory, we could use `cd ..`. But there is another way to move to any directory, regardless of your current location."
   ]
  },
  {
   "cell_type": "markdown",
   "metadata": {
    "slideshow": {
     "slide_type": "subslide"
    }
   },
   "source": [
    "So far, when specifying directory names, or even a directory path (as above), we have been using **relative paths**. When you use a relative path with a command like `ls` or `cd`, it tries to find that location from where we are, rather than from the root of the file system."
   ]
  },
  {
   "cell_type": "markdown",
   "metadata": {
    "slideshow": {
     "slide_type": "subslide"
    }
   },
   "source": [
    "However, it is possible to specify the **absolute path** to a directory by including its entire path from the root directory, which is indicated by a leading slash. The leading `/` tells the computer to follow the path from the root of the file system, so it always refers to exactly one directory, no matter where we are when we run the command. This allows us to move to any directory from anywhere on the filesystem."
   ]
  },
  {
   "cell_type": "markdown",
   "metadata": {
    "slideshow": {
     "slide_type": "subslide"
    }
   },
   "source": [
    "## Exercise: Absolute Paths\n",
    "\n",
    "Us `pwd` to find the **absolute** path of the `IntroShell` directory, and then move to it. \n",
    "\n",
    "[Solution]()\n"
   ]
  },
  {
   "cell_type": "markdown",
   "metadata": {},
   "source": [
    "## Solution: Absolute Paths\n",
    "\n",
    "```Bash\n",
    "jupyter-user:$pwd\n",
    "/jupyter/jupyter-user/IntroShell/data/shell-lesson-data\n",
    "jupyter-user:$cd /jupyter/jupyter-user/IntroShell\n",
    "```\n"
   ]
  },
  {
   "cell_type": "markdown",
   "metadata": {
    "slideshow": {
     "slide_type": "subslide"
    }
   },
   "source": [
    "Run `pwd` and `ls -F` to ensure that we're in the directory we expect.\n",
    "\n",
    "These then, are the basic commands for navigating the filesystem on your computer: `pwd`, `ls` and `cd`. Let's explore some variations on those commands."
   ]
  },
  {
   "cell_type": "markdown",
   "metadata": {
    "slideshow": {
     "slide_type": "slide"
    }
   },
   "source": [
    "What happens if you type `cd` on its own, without giving a directory?"
   ]
  },
  {
   "cell_type": "markdown",
   "metadata": {
    "slideshow": {
     "slide_type": "fragment"
    }
   },
   "source": [
    "```Bash\n",
    "jupyter-user:$cd\n",
    "```"
   ]
  },
  {
   "cell_type": "markdown",
   "metadata": {
    "slideshow": {
     "slide_type": "fragment"
    }
   },
   "source": [
    "How can you check what happened? `pwd` gives us the answer!\n",
    "\n",
    "```Bash\n",
    "jupyter-user:$pwd\n",
    "/jupyter/jupyter-user\n",
    "```"
   ]
  },
  {
   "cell_type": "markdown",
   "metadata": {
    "slideshow": {
     "slide_type": "subslide"
    }
   },
   "source": [
    "It turns out that `cd` without an argument will return you to your home directory, which is great if you've gotten lost in your own filesystem."
   ]
  },
  {
   "cell_type": "markdown",
   "metadata": {
    "slideshow": {
     "slide_type": "slide"
    }
   },
   "source": [
    "## Information: Two More Shortcuts\n",
    "The shell interprets the character `~` (tilde) at the start of a path to mean \"the current user's home directory\". For example, if Nelle's home directory is `/Users/nelle`, then `~/data` is equivalent to `/Users/nelle/data`. This only works if it is the first character in the path: `here/there/~/elsewhere` is not `here/there/Users/nelle/elsewhere`.\n",
    "\n",
    "Another shortcut is the `-` (dash) character. `cd` will translate `-` into the previous directory I was in, which is faster than having to remember, then type, the full path. This is a very efficient way of moving back and forth between directories. The difference between `cd ..` and `cd -` is that the former brings you up, while the latter brings you back. You can think of it as the Last Channel button on a TV remote."
   ]
  },
  {
   "cell_type": "markdown",
   "metadata": {
    "slideshow": {
     "slide_type": "slide"
    }
   },
   "source": [
    "## Exercise: Absolute vs Relative Paths\n",
    "Starting from `/Users/amanda/data/`, which of the following commands could Amanda use to navigate to her home directory, which is `/Users/amanda`?\n",
    "1. `cd .`\n",
    "2. `cd /`\n",
    "3. `cd /home/amanda`\n",
    "4. `cd ../..`\n",
    "5. `cd ~`\n",
    "6. `cd home`\n",
    "7. `cd ~/data/..`\n",
    "8. `cd`\n",
    "9. `cd ..`\n",
    "\n",
    "[Solution]()"
   ]
  },
  {
   "cell_type": "markdown",
   "metadata": {
    "slideshow": {
     "slide_type": "slide"
    }
   },
   "source": [
    "## Solution: Absolute vs Relative Paths\n",
    "1. No: `.` stands for the current directory.\n",
    "2. No: `/` stands for the root directory.\n",
    "3. No: Amanda's home directory is `/Users/amanda`.\n",
    "4. No: this goes up two levels, i.e. ends in `/Users`.\n",
    "5. Yes: `~` stands for the user's home directory, in this case `/Users/amanda`.\n",
    "6. No: this would navigate into a directory home in the current directory if it exists.\n",
    "7. Yes: unnecessarily complicated, but correct.\n",
    "8. Yes: shortcut to go back to the user's home directory.\n",
    "9. Yes: goes up one level."
   ]
  },
  {
   "cell_type": "markdown",
   "metadata": {
    "slideshow": {
     "slide_type": "slide"
    }
   },
   "source": [
    "## Exercise: Relative Path Resolution\n",
    "Using the filesystem diagram below, if pwd displays `/Users/thing`, what will `ls -F ../backup` display?\n",
    "1. `../backup: No such file or directory`\n",
    "2. `2012-12-01 2013-01-08 2013-01-27`\n",
    "3. `2012-12-01/ 2013-01-08/ 2013-01-27/`\n",
    "4. `original/ pnas_final/ pnas_sub/`\n",
    "\n",
    "\n",
    "![](../images/03/filesystem-challenge.svg)\n",
    "\n",
    "[Solution]()"
   ]
  },
  {
   "cell_type": "markdown",
   "metadata": {
    "slideshow": {
     "slide_type": "slide"
    }
   },
   "source": [
    "## Solution: Relative Path Resolution\n",
    "1. No: there is a directory backup in `/Users`.\n",
    "2. No: this is the content of `Users/thing/backup`, but with `..` we asked for one level further up.\n",
    "3. No: see previous explanation.\n",
    "4. Yes: `../backup/` refers to `/Users/backup/`."
   ]
  },
  {
   "cell_type": "markdown",
   "metadata": {
    "slideshow": {
     "slide_type": "slide"
    }
   },
   "source": [
    "## Exercise: `ls` Reading Comprehension\n",
    "Using the filesystem diagram below, if `pwd` displays `/Users/backup`, and `-r` tells ls to display things in reverse order, what command will display:\n",
    "```bash\n",
    "pnas_sub/ pnas_final/ original/\n",
    "```\n",
    "![](../images/03/filesystem-challenge.svg)\n",
    "1. `ls pwd`\n",
    "2. `ls -r -F`\n",
    "3. `ls -r -F /Users/backup`\n",
    "4. Either #2 or #3 above, but not #1.\n",
    "\n",
    "[Solution]()"
   ]
  },
  {
   "cell_type": "markdown",
   "metadata": {
    "slideshow": {
     "slide_type": "slide"
    }
   },
   "source": [
    "## Solution: `ls` Reading Comprehension\n",
    "1. No: `pwd` is not the name of a directory.\n",
    "2. Yes: `ls` without directory argument lists files and directories in the current directory.\n",
    "3. Yes: uses the absolute path explicitly.\n",
    "4. Correct: see explanations above."
   ]
  },
  {
   "cell_type": "markdown",
   "metadata": {},
   "source": [
    "## General syntax of a Shell Command\n",
    "\n",
    "We have now encountered commands, options, and arguments, but it is perhaps useful to formalise some terminology.\n",
    "\n",
    "Consider the command below as a general example of a command, which we will dissect into its component parts:\n",
    "\n",
    "```Bash\n",
    "jupyter-user:$ls -F /\n",
    "```\n",
    "\n",
    "![](../images/03/shell_command_syntax.svg)\n",
    "\n",
    "\n",
    "`ls` is the command, with an option `-F` and an argument `/`. We’ve already encountered options which either start with a single dash (`-`) or two dashes (`--`), and they change the behavior of a command. Arguments tell the command what to operate on (e.g. files and directories). Sometimes options and arguments are referred to as parameters. A command can be called with more than one option and more than one argument, but a command doesn’t always require an argument or an option.\n",
    "\n",
    "You might sometimes see options being referred to as switches or flags, especially for options that take no argument. In this lesson we will stick with using the term option.\n",
    "\n",
    "Each part is separated by spaces: if you omit the space between `ls` and `-F` the shell will look for a command called `ls-F`, which doesn’t exist. Also, capitalization can be important. For example, `ls -s` will display the size of files and directories alongside the names, while `ls -S` will sort the files and directories by size, as shown below:\n",
    "\n",
    "```Bash\n",
    "jupyter-user:$cd ~/IntroShell/data/shell-lesson-data\n",
    "jupyter-user: ls -s exercise-data\n",
    "0 animal-counts  0 creatures  4 numbers.txt  0 proteins  0 writing\n",
    "```\n",
    "<div class=\"alert alert-block alert-info\">\n",
    "<b>Note:</b> Note that the sizes returned by ls -s are in blocks. As these are defined differently for different operating systems, you may not obtain the same figures as in the example.\n",
    "</div>\n",
    "\n",
    "```Bash\n",
    "jupyter-user:$cd ~/IntroShell/data/shell-lesson-data\n",
    "jupyter-user: ls -S exercise-data\n",
    "proteins  creatures  writing  animal-counts  numbers.txt\n",
    "```\n",
    "\n",
    "Putting all that together the command `ls -f /` gives us a listing of the files and directories in the root directory `/`:\n",
    "\n",
    "```Bash\n",
    "jupyter-user:$ls -F /\n",
    "1      initrd.img@               lib/         proc/  sys/\n",
    "bin/   initrd.img.old@           lib64/       root/  tmp/\n",
    "boot/  jupyter/                  lost+found/  run/   usr/\n",
    "dev/   jupyterhub-proxy.pid      media/       sbin/  var/\n",
    "etc/   jupyterhub.sqlite         mnt/         snap/  vmlinuz@\n",
    "home/  jupyterhub_cookie_secret  opt/         srv/   vmlinuz.old@\n",
    "```"
   ]
  },
  {
   "cell_type": "markdown",
   "metadata": {
    "slideshow": {
     "slide_type": "slide"
    }
   },
   "source": [
    "## Nelle's Pipeline: Organizing Files\n",
    "\n",
    "Knowing just this much about files and directories, Nelle is ready to organize the files that the protein assay machine will create. \n",
    "\n",
    "First, she creates a directory called `north-pacific-gyre` (to remind herself where the data came from), which will contain the data files from the assay machine, and her data processing scripts.\n",
    "\n",
    "Each of her physical samples is labelled according to her lab’s convention with a unique ten-character ID, such as ‘NENE01729A’. This ID is what she used in her collection log to record the location, time, depth, and other characteristics of the sample, so she decides to use it as part of each data file’s name. Since the assay machine’s output is plain text, she will call her files NENE01729A.txt, NENE01812A.txt, and so on. All 1520 files will go into the same directory.\n",
    "\n",
    "\n",
    "\n"
   ]
  },
  {
   "cell_type": "markdown",
   "metadata": {
    "slideshow": {
     "slide_type": "subslide"
    }
   },
   "source": [
    "Now in her current directory `shell-lesson-data` (change into your copy of this folder to foloow along), Nelle can see what files she has using the command:\n",
    "\n",
    "```Bash\n",
    "jupyter-user:~$ls north-pacific-gyre/\n",
    "```\n",
    "\n",
    "This is a lot to type, but she can let the shell do most of the work through what is called **tab completion**. If she types:\n",
    "\n",
    "<div class=\"alert alert-block alert-info\">\n",
    "<b>Bash:</b> \n",
    "```Bash\n",
    "jupyter-user:~$ls no\n",
    "```\n",
    "</div>\n",
    "\n",
    "\n",
    "and then presses tab (the tab key on her keyboard), the shell automatically completes the directory name for her:\n",
    "\n",
    "<div class=\"alert alert-block alert-info\">\n",
    "<b>Bash:</b> \n",
    "```Bash\n",
    "jupyter-user:~$ls north-pacific-gyre/\n",
    "```\n",
    "</div>\n",
    "\n",
    "Pressing tab again does nothing, since there are multiple possibilities; pressing tab twice brings up a list of all the files.\n",
    "If Nelle adds `g` and presses Tab again, the shell will append ‘goo’ since all files that start with ‘g’ share the first three characters ‘goo’.\n",
    "\n",
    "<div class=\"alert alert-block alert-info\">\n",
    "<b>Bash:</b> \n",
    "```Bash\n",
    "jupyter-user:~$ls north-pacific-gyre/goo\n",
    "```\n",
    "</div>\n",
    "\n",
    "To see all of those files, she can press Tab twice more.\n",
    "\n",
    "<div class=\"alert alert-block alert-info\">\n",
    "<b>Bash:</b> \n",
    "```Bash\n",
    "jupyter-user:~$ls north-pacific-gyre/goo\n",
    "goodiff.sh goostats.sh\n",
    "```\n",
    "</div>\n",
    "\n",
    "This is called **tab completion**, and we will see it in many other tools as we go on."
   ]
  },
  {
   "cell_type": "markdown",
   "metadata": {
    "slideshow": {
     "slide_type": "slide"
    }
   },
   "source": [
    "## Key Points:\n",
    "\n",
    "- The file system is responsible for managing information on the disk.\n",
    "- Information is stored in files, which are stored in directories (folders).\n",
    "- Directories can also store other directories, which forms a directory tree.\n",
    "- `cd path` changes the current working directory.\n",
    "- `ls path` prints a listing of a specific file or directory; `ls` on its own lists the current working directory.\n",
    "- `pwd` prints the user's current working directory.\n",
    "- `/` on its own is the root directory of the whole file system.\n",
    "- A relative path specifies a location starting from the current location.\n",
    "- An absolute path specifies a location from the root of the file system.\n",
    "- Directory names in a path are separated with `/` on Unix, but `\\` on Windows.\n",
    "- `..` means 'the directory above the current one'; `.` on its own means 'the current directory'.\n",
    "- Most files' names are something.extension. The extension isn't required, and doesn't guarantee anything, but is normally used to indicate the type of data in the file."
   ]
  }
 ],
 "metadata": {
  "celltoolbar": "Slideshow",
  "kernelspec": {
   "display_name": "Python 3",
   "language": "python",
   "name": "python3"
  },
  "language_info": {
   "codemirror_mode": {
    "name": "ipython",
    "version": 3
   },
   "file_extension": ".py",
   "mimetype": "text/x-python",
   "name": "python",
   "nbconvert_exporter": "python",
   "pygments_lexer": "ipython3",
   "version": "3.8.3"
  }
 },
 "nbformat": 4,
 "nbformat_minor": 2
}
