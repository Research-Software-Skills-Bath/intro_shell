{
 "cells": [
  {
   "cell_type": "markdown",
   "metadata": {
    "slideshow": {
     "slide_type": "slide"
    }
   },
   "source": [
    "# Navigating Files and Directories"
   ]
  },
  {
   "cell_type": "markdown",
   "metadata": {
    "slideshow": {
     "slide_type": "subslide"
    }
   },
   "source": [
    "## Overview:\n",
    "\n",
    "- **Teaching:** 30 min\n",
    "- **Exercises:** 20 min\n",
    "\n",
    "**Questions**\n",
    "- How can I create, copy, and delete files and directories?\n",
    "- How can I edit files?\n",
    "\n",
    "**Objectives**\n",
    "- Create a directory hierarchy that matches a given diagram.\n",
    "- Create files in that hierarchy using an editor or by copying and renaming existing files.\n",
    "- Delete, copy and move specified files and/or directories."
   ]
  },
  {
   "cell_type": "markdown",
   "metadata": {},
   "source": [
    "## Creating directories\n",
    "\n",
    "We now know how to explore files and directories, but how do we create them in the first place?\n",
    "\n",
    "In this episode we will learn about creating and moving files and directories, using the `IntroShell/data/shell-lesson-data/exercise-data/writing` directory as an example.\n",
    "\n",
    "We should still be in the shell-lesson-data directory on the Desktop, which we can check using:\n",
    "\n",
    "```Bash\n",
    "jupyter-user:~$pwd\n",
    "/jupyter/jupyter-user/IntroShell/data/shell-lesson-data\n",
    "```\n",
    "\n",
    "Now lets change to the exercise-data/writing directory: \n",
    "\n",
    "```Bash\n",
    "jupyter-user:~$cd excercise-data/writing\n",
    "```\n",
    "\n",
    "Ans check what is in the directory:\n",
    "\n",
    "```Bash\n",
    "jupyter-user:~$ls -F\n",
    "LittleWomen.txt  haiku.txt\n",
    "```"
   ]
  },
  {
   "cell_type": "markdown",
   "metadata": {},
   "source": [
    "## Create a directory\n",
    "\n",
    "Let’s create a new directory called thesis using the command `mkdir thesis` (which will print no output):\n",
    "\n",
    "```Bash\n",
    "jupyter-user:~$mkdir thesis\n",
    "```\n",
    "As you might guess from its name, `mkdir` means ‘make directory’. Since thesis is a relative path (i.e., does not have a leading slash, like `/what/ever/thesis`), the new directory is created in the current working directory:\n",
    "\n",
    "```Bash\n",
    "jupyter-user:~$ls -F\n",
    "LittleWomen.txt  haiku.txt thesis/\n",
    "```"
   ]
  },
  {
   "cell_type": "markdown",
   "metadata": {},
   "source": [
    "Since we’ve just created the thesis directory, there’s nothing in it yet:\n",
    "```Bash\n",
    "jupyter-user:~$ls -F thesis\n",
    "```"
   ]
  },
  {
   "cell_type": "markdown",
   "metadata": {},
   "source": [
    "Note that mkdir is not limited to creating single directories one at a time. The `-p` option allows `mkdir` to create a directory with nested subdirectories in a single operation:\n",
    "\n",
    "```Bash\n",
    "jupyter-user:~$mkdir -p ../project/data ../project/results\n",
    "```\n",
    "\n",
    "The -R option to the `ls `command will list all nested subdirectories within a directory. Let’s use ls `-FR` to recursively list the new directory hierarchy we just created in the project directory:\n",
    "\n",
    "```Bash\n",
    "jupyter-user:~$ls -FR ../project\n",
    "../project/:\n",
    "data/  results/\n",
    "\n",
    "../project/data:\n",
    "\n",
    "../project/results:\n",
    "```\n"
   ]
  },
  {
   "cell_type": "markdown",
   "metadata": {},
   "source": [
    "## Information: Two ways of doing the same thing\n",
    "Using the shell to create a directory is no different than using a file explorer. If you open the current directory using your operating system's graphical file explorer, the `thesis` directory will appear there too. While they are two different ways of interacting with the files, the files and directories themselves are the same."
   ]
  },
  {
   "cell_type": "markdown",
   "metadata": {},
   "source": [
    "## Information: Good names for files and directories\n",
    "Complicated names of files and directories can make your life painful when working on the command line. Here we provide a few useful tips for the names of your files and directories.\n",
    "\n",
    "- **Don’t use spaces**: Spaces can make a name more meaningful, but since spaces are used to separate arguments on the command line it is better to avoid them in names of files and directories. You can use - or _ instead (e.g. north-pacific-gyre/ rather than north pacific gyre/). To test this out, try typing mkdir north pacific gyreand see what directory (or directories!) are made when you check with ls -F.\n",
    "\n",
    "- **Don’t begin the name with - (dash)**: Commands treat names starting with - as options.\n",
    "\n",
    "- **Stick with letters, numbers, . (period or ‘full stop’), - (dash) and _ (underscore)**: Many other characters have special meanings on the command line. We will learn about some of these during this lesson. There are special characters that can cause your command to not work as expected and can even result in data loss.\n",
    "\n",
    "If you need to refer to names of files or directories that have spaces or other special characters, you should surround the name in quotes (\"\")."
   ]
  },
  {
   "cell_type": "markdown",
   "metadata": {},
   "source": [
    "## Create a text file\n",
    "\n",
    "Let’s change our working directory to thesis using cd, then run a text editor called Nano to create a file called draft.txt:\n",
    "\n",
    "```Bash\n",
    "jupyter-user:~$cd thesis\n",
    "jupyter-user:~$nano draft.txt\n",
    "```\n"
   ]
  },
  {
   "cell_type": "markdown",
   "metadata": {},
   "source": [
    "## Information: Which Editor?\n",
    "When we say, \"`nano` is a text editor,\" we really do mean \"text\": it can only work with plain character data, not tables, images, or any other human-friendly media. We use it in examples because it is one of the least complex text editors. However, because of this trait, it may not be powerful enough or flexible enough for the work you need to do after this workshop. On Unix systems (such as Linux and Mac OS X), many programmers use Emacs or Vim (both of which require more time to learn), or a graphical editor such as Gedit. On Windows, you may wish to use Notepad++. Windows also has a built-in editor called `notepad` that can be run from the command line in the same way as `nano` for the purposes of this lesson.\n",
    "\n",
    "No matter what editor you use, you will need to know where it searches for and saves files. If you start it from the shell, it will (probably) use your current working directory as its default location. If you use your computer's start menu, it may want to save files in your desktop or documents directory instead. You can change this by navigating to another directory the first time you \"Save As…\""
   ]
  },
  {
   "cell_type": "markdown",
   "metadata": {},
   "source": [
    "Let's type in a few lines of text. Once we're happy with our text, we can press `Ctrl-O` (press the Ctrl or Control key and, while holding it down, press the O key) to write our data to disk (we'll be asked what file we want to save this to: press Return to accept the suggested default of `draft.txt`).\n",
    "\n",
    "![alttext](../images/04/nano-screenshot.png)\n",
    "\n",
    "Once our file is saved, we can use Ctrl-X to quit the editor and return to the shell."
   ]
  },
  {
   "cell_type": "markdown",
   "metadata": {},
   "source": [
    "## Information: Control, Ctrl, or ^ Key\n",
    "The Control key is also called the \"Ctrl\" key. There are various ways in which using the Control key may be described. For example, you may see an instruction to press the Control key and, while holding it down, press the X key, described as any of:\n",
    "- `Control-X`\n",
    "- `Control+X`\n",
    "- `Ctrl-X`\n",
    "- `Ctrl+X`\n",
    "- `^X`\n",
    "- `C-x`\n",
    "In nano, along the bottom of the screen you'll see `^G` Get Help `^O` WriteOut. This means that you can use `Control-G` to get help and `Control-O` to save your file."
   ]
  },
  {
   "cell_type": "markdown",
   "metadata": {},
   "source": [
    "`nano` doesn't leave any output on the screen after it exits, but `ls` now shows that we have created a file called `draft.txt`:"
   ]
  },
  {
   "cell_type": "markdown",
   "metadata": {},
   "source": [
    "## Exercise: Creating Files a Different Way\n",
    "We have seen how to create text files using the `nano` editor. Now, try the following command in your home directory:\n",
    "\n",
    "```bash\n",
    "jupyter-user:~$cd                  # go to your home directory\n",
    "jupyter-user:~$touch my_file.txt\n",
    "```\n",
    "1. What did the touch command do? When you look at your home directory using the GUI file explorer, does the file show up?\n",
    "2. Use `ls -l` to inspect the files. How large is `my_file.txt`?\n",
    "3. When might you want to create a file this way?\n",
    "\n",
    "[Solution]()"
   ]
  },
  {
   "cell_type": "markdown",
   "metadata": {},
   "source": [
    "## Solution: Creating Files a Different Way\n",
    "1. The touch command generates a new file called 'my_file.txt' in your home directory. If you are in your home directory, you can observe this newly generated file by typing 'ls' at the command line prompt. 'my_file.txt' can also be viewed in your GUI file explorer.\n",
    "2. When you inspect the file with 'ls -l', note that the size of 'my_file.txt' is 0kb. In other words, it contains no data. If you open 'my_file.txt' using your text editor it is blank.\n",
    "3. Some programs do not generate output files themselves, but instead require that empty files have already been generated. When the program is run, it searches for an existing file to populate with its output. The touch command allows you to efficiently generate a blank text file to be used by such programs."
   ]
  },
  {
   "cell_type": "markdown",
   "metadata": {},
   "source": [
    "## Removing a file\n",
    "\n",
    "Lets tidy up our home dirctory by removing the file we have just created:\n",
    "\n",
    "```bash\n",
    "jupyter-user:~$rm my_file.txt  \n",
    "```\n",
    "The `rm` command removes files (`rm` is short for \"remove\"). If we run `ls` again, it tells us that our file is gone.\n",
    "\n"
   ]
  },
  {
   "cell_type": "markdown",
   "metadata": {},
   "source": [
    "## Information: Deleting Is Forever\n",
    "The Unix shell doesn't have a trash bin that we can recover deleted files from (though most graphical interfaces to Unix do). Instead, when we delete files, they are unhooked from the file system so that their storage space on disk can be recycled. Tools for finding and recovering deleted files do exist, but there's no guarantee they'll work in any particular situation, since the computer may recycle the file's disk space right away."
   ]
  },
  {
   "cell_type": "markdown",
   "metadata": {},
   "source": [
    "Lets move back to our `writing` directory:\n",
    "\n",
    "```bash\n",
    "jupyter-user:~$cd -\n",
    "jupyter-user:~$pwd\n",
    "/jupyter/jupyter-user/IntroShell/data/shell-lesson-data/exercise-data/writing\n",
    "```\n",
    "\n",
    "And remove the `thesis` folder we created:\n",
    "\n",
    "```bash\n",
    "jupyter-user:~$rm thesis\n",
    "rm: cannot remove 'thesis': Is a directory\n",
    "```\n",
    "\n",
    "This happens because `rm` by default only works on files, not directories.\n",
    "\n",
    "To really get rid of `thesis` we must also delete the file `draft.txt`. We can do this with the recursive option for `rm`:\n",
    "\n",
    "```bash\n",
    "jupyter-user:~$rm -r thesis\n",
    "```\n",
    "\n",
    "Recreate the `thesis` folder and `draft.txt` file again."
   ]
  },
  {
   "cell_type": "markdown",
   "metadata": {},
   "source": [
    "## Information: With Great Power Comes Great Responsibility\n",
    "Removing the files in a directory recursively can be a very dangerous operation. If we're concerned about what we might be deleting we can add the \"interactive\" flag `-i` to `rm` which will ask us for confirmation before each step\n",
    "```bash\n",
    "jupyter-user:~$rm -r -i thesis\n",
    "jupyter-user:~$rm: descend into directory 'thesis'? y\n",
    "jupyter-user:~$rm: remove regular file 'thesis/draft.txt'? y\n",
    "jupyter-user:~$rm: remove directory 'thesis'? y\n",
    "```\n",
    "This removes everything in the directory, then the directory itself, asking at each step for you to confirm the deletion. Recreate the folder and file once again (or select `n` when asked for confirmation above)"
   ]
  },
  {
   "cell_type": "markdown",
   "metadata": {},
   "source": [
    "## Moving files and directories\n",
    "\n",
    "`draft.txt` isn't a particularly informative name, so let's change the file's name using `mv`, which is short for \"move\":\n",
    "```bash\n",
    "jupyter-user:~$mv thesis/draft.txt  thesis/quotes.txt\n",
    "```\n",
    "\n",
    "The first argument tells `mv` what we're \"moving\", while the second is where it's to go. In this case, we're moving `thesis/draft.txt` to `thesis/quotes.txt`, which has the same effect as renaming the file. Sure enough, `ls` shows us that `thesis` now contains one file called `quotes.txt`:\n",
    "\n",
    "```bash\n",
    "jupyter-user:~$ls thesis\n",
    "quotes.txt\n",
    "```"
   ]
  },
  {
   "cell_type": "markdown",
   "metadata": {},
   "source": [
    "One has to be careful when specifying the target file name, since `mv` will silently overwrite any existing file with the same name, which could lead to data loss. An additional flag, `mv -i` (or `mv --interactive`), can be used to make `mv` ask you for confirmation before overwriting.\n",
    "\n",
    "Just for the sake of consistency, `mv` also works on directories"
   ]
  },
  {
   "cell_type": "markdown",
   "metadata": {},
   "source": [
    "Let's move `quotes.txt` into the current working directory. We use `mv` once again, but this time we'll just use the name of a directory as the second argument to tell `mv` that we want to keep the filename, but put the file somewhere new. (This is why the command is called \"move\".) In this case, the directory name we use is the special directory name `.` that we mentioned earlier."
   ]
  },
  {
   "cell_type": "markdown",
   "metadata": {},
   "source": [
    "The effect is to move the file from the directory it was in to the current working directory. `ls` now shows us that `thesis` is empty:\n",
    "\n",
    "```bash\n",
    "jupyter-user:~$ls thesis\n",
    "```"
   ]
  },
  {
   "cell_type": "markdown",
   "metadata": {},
   "source": [
    "## Information: Parameters and Arguments\n",
    "\n",
    "According to Wikipedia, the terms argument and parameter mean slightly different things. In practice, however, most people use them interchangeably to refer to the input term(s) given to a command.\n",
    "\n",
    "`ls` is the command, `-F` are the flags (also called options), and `IntroShell/data` is the argument."
   ]
  },
  {
   "cell_type": "markdown",
   "metadata": {},
   "source": [
    "Further, `ls` with a filename or directory name as an argument only lists that file or directory. We can use this to see that `quotes.txt` is still in our current directory:\n",
    "\n",
    "```bash\n",
    "jupyter-user:~$ls quotes.txt\n",
    "```"
   ]
  },
  {
   "cell_type": "markdown",
   "metadata": {},
   "source": [
    "## Exercise: Moving to the Current Folder\n",
    "After running the following commands, Jamie realizes that she put the files `sucrose.dat` and `maltose.dat` into the wrong folder:\n",
    "```bash\n",
    "ls -F\n",
    "analyzed/ raw/\n",
    "ls -F analyzed\n",
    "fructose.dat glucose.dat maltose.dat sucrose.dat\n",
    "cd raw/\n",
    "```\n",
    "Fill in the blanks to move these files to the current folder (i.e., the one she is currently in):\n",
    "```bash\n",
    "mv ___/sucrose.dat  ___/maltose.dat ___\n",
    "```\n",
    ".\n",
    "\n",
    "[Solution]()"
   ]
  },
  {
   "cell_type": "markdown",
   "metadata": {},
   "source": [
    "## Solution: Moving to the Current Folder\n",
    "```bash\n",
    "mv ../analyzed/sucrose.dat ../analyzed/maltose.dat .\n",
    "```\n",
    "Recall that `..` refers to the parent directory (i.e. one above the current directory) and that `.` refers to the current directory."
   ]
  },
  {
   "cell_type": "markdown",
   "metadata": {},
   "source": [
    "## Copying files and Directories\n",
    "\n",
    "The `cp` command works very much like `mv`, except it copies a file instead of moving it. We can check that it did the right thing using ls with two paths as arguments - like most Unix commands, `ls` can be given multiple paths at once:\n",
    "\n",
    "```bash\n",
    "jupyter-user:~$cp quotes.txt thesis/quotations.txt\n",
    "jupyter-user:~$ls quotes.txt thesis/quotations.txt\n",
    "quotes.txt  thesis/quotations.txt\n",
    "```"
   ]
  },
  {
   "cell_type": "markdown",
   "metadata": {},
   "source": [
    "To prove that we made a copy, let's delete the `quotes.txt` file in the current directory and then run that same `ls` again.\n",
    "\n",
    "```bash\n",
    "jupyter-user:~$rm quotes.txt \n",
    "jupyter-user:~$ls quotes.txt thesis/quotations.txt\n",
    "ls: cannot access 'quotes.txt': No such file or directory\n",
    "thesis/quotations.txt\n",
    "```\n"
   ]
  },
  {
   "cell_type": "markdown",
   "metadata": {},
   "source": [
    "We can also copy a directory and all its contents by using the recursive option -r, e.g. to back up a directory:\n",
    "\n",
    "```bash\n",
    "jupyter-user:~$cp -r thesis thesis_backup\n",
    "```\n",
    "\n",
    "and check the result by listing the contents of both the `thesis` and `thesis_backup` directories:\n",
    "\n",
    "```bash\n",
    "jupyter-user:~$ls thesis thesis_backup\n",
    "thesis:\n",
    "quotations.txt\n",
    "\n",
    "thesis_backup/:\n",
    "quotations.txt\n",
    "```"
   ]
  },
  {
   "cell_type": "markdown",
   "metadata": {},
   "source": [
    "## Exercise: Renaming Files\n",
    "Suppose that you created a .txt file in your current directory to contain a list of the statistical tests you will need to do to analyze your data, and named it: statstics.txt\n",
    "\n",
    "After creating and saving this file you realize you misspelled the filename! You want to correct the mistake, which of the following commands could you use to do so?\n",
    "\n",
    "1. `cp statstics.txt statistics.txt`\n",
    "2. `mv statstics.txt statistics.txt`\n",
    "3. `mv statstics.txt .`\n",
    "4. `cp statstics.txt .`\n",
    "\n",
    "[Solution]()"
   ]
  },
  {
   "cell_type": "markdown",
   "metadata": {},
   "source": [
    "## Solution: Renaming Files\n",
    "1. No. While this would create a file with the correct name, the incorrectly named file still exists in the directory and would need to be deleted.\n",
    "2. Yes, this would work to rename the file.\n",
    "3. No, the period(.) indicates where to move the file, but does not provide a new file name; identical file names cannot be created.\n",
    "4. No, the period(.) indicates where to copy the file, but does not provide a new file name; identical file names cannot be created."
   ]
  },
  {
   "cell_type": "markdown",
   "metadata": {},
   "source": [
    "## Exercise: Moving and Copying\n",
    "What is the output of the closing ls command in the sequence shown below?\n",
    "```bash\n",
    "pwd\n",
    "/Users/jamie/data\n",
    "ls\n",
    "proteins.dat\n",
    "mkdir recombine\n",
    "mv proteins.dat recombine/\n",
    "cp recombine/proteins.dat ../proteins-saved.dat\n",
    "ls\n",
    "```\n",
    "1. `proteins-saved.dat recombine`\n",
    "2. `recombine`\n",
    "3. `proteins.dat recombine`\n",
    "4. `proteins-saved.dat`"
   ]
  },
  {
   "cell_type": "markdown",
   "metadata": {},
   "source": [
    "## Solution: Moving and Copying\n",
    "\n",
    "We start in the `/Users/jamie/data` directory, and create a new folder called recombine. The second line moves (`mv`) the file `proteins.dat` to the new folder (`recombine`). The third line makes a copy of the file we just moved. The tricky part here is where the file was copied to. Recall that `..` means \"go up a level\", so the copied file is now in `/Users/jamie`. Notice that `..` is interpreted with respect to the current working directory, not with respect to the location of the file being copied. So, the only thing that will show using `ls` (in `/Users/jamie/data`) is the recombine folder.\n",
    "\n",
    "1. No, see explanation above. `proteins-saved.dat` is located at `/Users/jamie`\n",
    "2. Yes\n",
    "3. No, see explanation above. `proteins.dat` is located at `/Users/jamie/data/recombine`\n",
    "4. No, see explanation above. `proteins-saved.dat` is located at `/Users/jamie`"
   ]
  },
  {
   "cell_type": "markdown",
   "metadata": {},
   "source": [
    "## Exercise: Copy with Multiple Filenames\n",
    "For this exercise, you can test the commands in the `IntroShell/data/shell-lesson-data/exercise-data` directory.\n",
    "\n",
    "In the example below, what does cp do when given several filenames and a directory name?\n",
    "```bash\n",
    "jupyter-user:~$mkdir backup\n",
    "cp creatures/minotaur.dat creatures/unicorn.dat backup/\n",
    "```\n",
    "In the example below, what does cp do when given three or more file names?\n",
    "```bash\n",
    "jupyter-user:~$cd creatures\n",
    "jupyter-user:~$ls -F\n",
    "basilisk.dat  minotaur.dat  unicorn.dat\n",
    "jupyter-user:~$cp minotaur.dat unicorn.dat basilisk.dat\n",
    "```\n",
    ".\n",
    "[Solution]()"
   ]
  },
  {
   "cell_type": "markdown",
   "metadata": {},
   "source": [
    "## Solution: Copy with Multiple Filenames\n",
    "If given more than one file name followed by a directory name (i.e. the destination directory must be the last argument), `cp` copies the files to the named directory.\n",
    "\n",
    "If given three file names, `cp` throws an error because it is expecting a directory name as the last argument.\n",
    "```bash\n",
    "cp: target 'basilisk.dat' is not a directory\n",
    "```"
   ]
  },
  {
   "cell_type": "markdown",
   "metadata": {},
   "source": []
  }
 ],
 "metadata": {
  "celltoolbar": "Slideshow",
  "kernelspec": {
   "display_name": "Python 3",
   "language": "python",
   "name": "python3"
  },
  "language_info": {
   "codemirror_mode": {
    "name": "ipython",
    "version": 3
   },
   "file_extension": ".py",
   "mimetype": "text/x-python",
   "name": "python",
   "nbconvert_exporter": "python",
   "pygments_lexer": "ipython3",
   "version": "3.8.3"
  }
 },
 "nbformat": 4,
 "nbformat_minor": 2
}
