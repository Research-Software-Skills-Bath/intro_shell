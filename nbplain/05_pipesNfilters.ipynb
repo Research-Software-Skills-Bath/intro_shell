{
 "cells": [
  {
   "cell_type": "markdown",
   "metadata": {
    "slideshow": {
     "slide_type": "slide"
    }
   },
   "source": [
    "# Pipes and filters"
   ]
  },
  {
   "cell_type": "markdown",
   "metadata": {
    "slideshow": {
     "slide_type": "subslide"
    }
   },
   "source": [
    "## Overview:\n",
    "\n",
    "- **Teaching:**  25 min\n",
    "- **Exercises:** 10 min\n",
    "\n",
    "**Questions**\n",
    "- How can I combine existing commands to do new things?\n",
    "\n",
    "**Objectives**\n",
    "- Redirect a command’s output to a file.\n",
    "- Construct command pipelines with two or more stages.\n",
    "- Explain what usually happens if a program or pipeline isn’t given any input to process.\n",
    "- Explain the advantage of linking commands with pipes and filters."
   ]
  },
  {
   "cell_type": "markdown",
   "metadata": {},
   "source": [
    "\n",
    "Now that we know a few basic commands, we can finally look at the shell’s most powerful feature: the ease with which it lets us combine existing programs in new ways. We’ll start with the directory `shell-lesson-data/exercise-data/proteins` that contains six files describing some simple organic molecules. The .pdb extension indicates that these files are in Protein Data Bank format, a simple text format that specifies the type and position of each atom in the molecule."
   ]
  },
  {
   "cell_type": "markdown",
   "metadata": {},
   "source": [
    "```bash\n",
    "jupyter-user:$ ls\n",
    "cubane.pdb  ethane.pdb  methane.pdb  octane.pdb  pentane.pdb  propane.pdb\n",
    "``` "
   ]
  },
  {
   "cell_type": "markdown",
   "metadata": {},
   "source": [
    "Let's run the following command:\n",
    "\n",
    "```bash\n",
    "jupyter-user:$wc cubane.pdb\n",
    "20  156 1158 cubane.pdb\n",
    "```\n",
    "\n",
    "`wc` is the ‘word count’ command: it counts the number of lines, words, and characters in files (from left to right, in that order).\n",
    "\n",
    "If we run the command `wc *.pdb,` the `*` in `*.pdb` matches zero or more characters, so the shell turns `*.pdb` into a list of all `.pdb` files in the current directory:\n",
    "\n",
    "```bash\n",
    "jupyter-user:$wc *.pdb\n",
    "  20  156  1158  cubane.pdb\n",
    "  12  84   622   ethane.pdb\n",
    "   9  57   422   methane.pdb\n",
    "  30  246  1828  octane.pdb\n",
    "  21  165  1226  pentane.pdb\n",
    "  15  111  825   propane.pdb\n",
    " 107  819  6081  total\n",
    "```\n",
    "\n",
    "Note that `wc *.pdb` also shows the total number of all lines in the last line of the output.\n",
    "\n"
   ]
  },
  {
   "cell_type": "markdown",
   "metadata": {},
   "source": [
    "If we run `wc -l` instead of just `wc`, the output shows only the number of lines per file:\n",
    "\n",
    "```bash\n",
    "jupyter-user:$wc -l *.pdb\n",
    "  20  cubane.pdb\n",
    "  12  ethane.pdb\n",
    "   9  methane.pdb\n",
    "  30  octane.pdb\n",
    "  21  pentane.pdb\n",
    "  15  propane.pdb\n",
    " 107  total\n",
    "```\n",
    "\n",
    "The `-m` and `-w` options can also be used with the `wc` command, to show only the number of characters or the number of words in the files."
   ]
  },
  {
   "cell_type": "markdown",
   "metadata": {},
   "source": [
    "## Information: Hanging process\n",
    "\n",
    "What happens if a command is supposed to process a file, but we don’t give it a filename? For example, what if we type:\n",
    "\n",
    "```bash\n",
    "jupyter-user:$wc -l\n",
    "```\n",
    "\n",
    "but don’t type `*.pdb` (or anything else) after the command? Since it doesn’t have any filenames, `wc` assumes it is supposed to process input given at the command prompt, so it just sits there and waits for us to give it some data interactively. From the outside, though, all we see is it sitting there: the command doesn’t appear to do anything.\n",
    "\n",
    "If you make this kind of mistake, you can escape out of this state by holding down the control key (`Ctrl`) and typing the letter `C` once and letting go of the `Ctrl` key. `Ctrl+C`\n"
   ]
  },
  {
   "cell_type": "markdown",
   "metadata": {},
   "source": [
    "## Capturing output from commands\n",
    "\n",
    "Which of these files contains the fewest lines? It’s an easy question to answer when there are only six files, but what if there were 6000? Our first step toward a solution is to run the command:\n",
    "\n",
    "```bash\n",
    "jupyter-user:$wc -l *.pdb > lengths.txt\n",
    "```\n",
    "\n",
    "The greater than symbol, `>`, tells the shell to redirect the command’s output to a file instead of printing it to the screen. (This is why there is no screen output: everything that wc would have printed has gone into the file lengths.txt instead.) The shell will create the file if it doesn’t exist. If the file exists, it will be silently overwritten, which may lead to data loss and thus requires some caution. `ls lengths.txt` confirms that the file exists:\n",
    "\n",
    "\n",
    "```bash\n",
    "jupyter-user:$ls lengths.txt\n",
    "lengths.txt\n",
    "```\n",
    "\n",
    "We can now send the content of lengths.txt to the screen using `cat lengths.txt`. The `cat` command gets its name from ‘concatenate’ i.e. join together, and it prints the contents of files one after another. There’s only one file in this case, so cat just shows us what it contains:\n",
    "\n",
    "```bash\n",
    "jupyter-user:$cat lengths.txt\n",
    "  20  cubane.pdb\n",
    "  12  ethane.pdb\n",
    "   9  methane.pdb\n",
    "  30  octane.pdb\n",
    "  21  pentane.pdb\n",
    "  15  propane.pdb\n",
    " 107  total\n",
    "```"
   ]
  },
  {
   "cell_type": "markdown",
   "metadata": {},
   "source": [
    "## Filtering Output\n",
    "\n",
    "Next we'll use the `sort` command to sort the contents of the `lengths.txt` file, but first we'll use an exercise to learn about the sort command:\n"
   ]
  },
  {
   "cell_type": "markdown",
   "metadata": {},
   "source": [
    "## Exercise: Sort\n",
    "The file `IntroShell/data/shell-lesson-data/exercise/numbers.txt` contains the following lines:\n",
    "\n",
    "```bash\n",
    "10\n",
    "2\n",
    "19\n",
    "22\n",
    "6\n",
    "```\n",
    "\n",
    "If we run sort on this file we get:\n",
    "\n",
    "```bash\n",
    "jupyter-user:$sort numbers.txt\n",
    "10\n",
    "2\n",
    "19\n",
    "22\n",
    "6\n",
    "```\n",
    "\n",
    "If we run `sort -n` on this file we get:\n",
    "\n",
    "```bash\n",
    "jupyter-user:$sort -n numbers.txt\n",
    "2\n",
    "6\n",
    "10\n",
    "19\n",
    "22\n",
    "```\n",
    "\n",
    "Explain why `-n` has this effect.\n",
    "[Solution]()"
   ]
  },
  {
   "cell_type": "markdown",
   "metadata": {},
   "source": [
    "## Solution: Sort\n",
    "The `-n` option specifies a numerical rather than an alphanumerical sort."
   ]
  },
  {
   "cell_type": "markdown",
   "metadata": {},
   "source": [
    "We will also use the -n option to specify that the sort is numerical instead of alphanumerical. This does not change the file; instead, it sends the sorted result to the screen:\n",
    "\n",
    "```bash\n",
    "jupyter-user:$sort -n lengths.txt\n",
    "  9  methane.pdb\n",
    " 12  ethane.pdb\n",
    " 15  propane.pdb\n",
    " 20  cubane.pdb\n",
    " 21  pentane.pdb\n",
    " 30  octane.pdb\n",
    "107  total\n",
    "```\n",
    "\n",
    "We can put the sorted list of lines in another temporary file called `sorted-lengths.txt` by putting `> sorted-lengths.txt` after the command, just as we used `> lengths.txt` to put the output of `wc` into `lengths.txt`. Once we’ve done that, we can run another command called `head` to get the first few lines in `sorted-lengths.txt`:\n",
    "\n",
    "```bash\n",
    "jupyter-user:$sort -n lengths.txt > sorted-lengths.txt\n",
    "jupyter-user:$head -n 1 sorted-lengths.txt\n",
    "  9  methane.pdb\n",
    "```\n",
    "\n",
    "Using `-n 1` with head tells it that we only want the first line of the file; `-n 20` would get the first 20, and so on. Since `sorted-lengths.txt` contains the lengths of our files ordered from least to greatest, the output of `head` must be the file with the fewest lines.\n",
    "\n"
   ]
  },
  {
   "cell_type": "markdown",
   "metadata": {},
   "source": [
    "## Information\n",
    "It’s a very bad idea to try redirecting the output of a command that operates on a file to the same file. For example:\n",
    "```bash\n",
    "jupyter-user:$sort -n lengths.txt > lengths.txt\n",
    "```\n",
    "Doing something like this may give you incorrect results and/or delete the contents of `lengths.txt`.\n"
   ]
  },
  {
   "cell_type": "markdown",
   "metadata": {},
   "source": [
    "## Exercise: >>\n",
    "\n",
    "We have seen the use of `>`, but there is a similar operator `>>` which works slightly differently. We’ll learn about the differences between these two operators by printing some strings. We can use the echo command to print strings e.g.\n",
    "\n",
    "```bash\n",
    "jupyter-user:$echo The echo command prints text\n",
    "The echo command prints text\n",
    "```\n",
    "\n",
    "Now test the commands below to reveal the difference between the two operators:\n",
    "\n",
    "```bash\n",
    "jupyter-user:$ echo hello > testfile01.txt\n",
    "```\n",
    "\n",
    "and\n",
    "\n",
    "```bash\n",
    "jupyter-user:$ echo hello >> testfile02.txt\n",
    "```\n",
    "\n",
    "Hint: try executing teach command twice in a row and examining the output files\n",
    "\n",
    "[Solution]()\n",
    "\n",
    "\n"
   ]
  },
  {
   "cell_type": "markdown",
   "metadata": {},
   "source": [
    "## Solution: >>\n",
    "\n",
    "In the first example with `>`, the string ‘hello’ is written to `testfile01.txt`, but the file gets overwritten each time we run the command.\n",
    "\n",
    "We see from the second example that the `>>` operator also writes ‘hello’ to a file (in this case `testfile02.txt`), but appends the string to the file if it already exists (i.e. when we run it for the second time).\n"
   ]
  },
  {
   "cell_type": "markdown",
   "metadata": {},
   "source": [
    "## Exercise: Appending Data\n",
    "\n",
    "We have already met the head command, which prints lines from the start of a file. tail is similar, but prints lines from the end of a file instead.\n",
    "\n",
    "Consider the file `shell-lesson-data/exercise-data/animal-counts/animals.csv`. After these commands, select the answer that corresponds to the file `animals-subset.csv`:\n",
    "\n",
    "```bash\n",
    "jupyter-user:$head -n 3 animals.csv > animals-subset.csv\n",
    "jupyter-user:$tail -n 2 animals.csv >> animals-subset.csv\n",
    "```\n",
    "\n",
    "- The first three lines of animals.csv\n",
    "- The last two lines of animals.csv\n",
    "- The first three lines and the last two lines of animals.csv\n",
    "- The second and third lines of animals.csv\n",
    "\n",
    "[Solution]()\n"
   ]
  },
  {
   "cell_type": "markdown",
   "metadata": {},
   "source": [
    "## Solution: Appending Data\n",
    "\n",
    "Option 3 is correct. For option 1 to be correct we would only run the head command. For option 2 to be correct we would only run the tail command. For option 4 to be correct we would have to pipe the output of head into tail -n 2 by doing head -n 3 animals.csv | tail -n 2 > animals-subset.csv"
   ]
  },
  {
   "cell_type": "markdown",
   "metadata": {},
   "source": [
    "## Passing output to another command\n",
    "\n",
    "In our example of finding the file with the fewest lines, we are using two intermediate files `lengths.txt` and `sorted-lengths.txt` to store output. This is a confusing way to work because even once you understand what wc, sort, and head do, those intermediate files make it hard to follow what’s going on. We can make it easier to understand by running sort and head together:\n",
    "\n",
    "```bash\n",
    "jupyter-user:$sort -n lengths.txt | head -n 1\n",
    "9 methane.pdb\n",
    "```\n",
    "\n",
    "The vertical bar, `|`, between the two commands is called a pipe. It tells the shell that we want to use the output of the command on the left as the input to the command on the right.\n",
    "\n",
    "This has removed the need for the `sorted-lengths.txt` file."
   ]
  },
  {
   "cell_type": "markdown",
   "metadata": {},
   "source": [
    "## Combining Multiple Commands\n",
    "\n",
    "Nothing prevents us from chaining pipes consecutively. We can for example send the output of `wc` directly to sort, and then the resulting output to head. This removes the need for any intermediate files.\n",
    "\n",
    "We’ll start by using a pipe to send the output of `wc` to sort:\n",
    "\n",
    "```bash\n",
    "jupyter-user:$wc -l *.pdb | sort -n\n",
    "   9 methane.pdb\n",
    "  12 ethane.pdb\n",
    "  15 propane.pdb\n",
    "  20 cubane.pdb\n",
    "  21 pentane.pdb\n",
    "  30 octane.pdb\n",
    " 107 total\n",
    "```\n",
    "\n",
    "We can then send that output through another pipe, to head, so that the full pipeline becomes:\n",
    "\n",
    "```bash\n",
    "jupyter-user:$wc -l *.pdb | sort -n | head -n 1\n",
    "   9 methane.pdb\n",
    "```\n",
    "\n",
    "This is exactly like a mathematician nesting functions like log(3x) and saying ‘the log of three times x’. In our case, the calculation is ‘head of sort of line count of *.pdb’.\n",
    "\n",
    "The redirection and pipes used in the last few commands are illustrated below:\n",
    "\n",
    "![](../images/05/redirects-and-pipes.png)\n",
    "\n"
   ]
  },
  {
   "cell_type": "markdown",
   "metadata": {},
   "source": [
    "## Exercise: Piping Commands\n",
    "\n",
    "In our current directory, we want to find the 3 files which have the least number of lines. Which command listed below would work?\n",
    "```bash\n",
    "$wc -l * > sort -n > head -n 3\n",
    "$wc -l * | sort -n | head -n 1-3\n",
    "$wc -l * | head -n 3 | sort -n\n",
    "$wc -l * | sort -n | head -n 3\n",
    "```"
   ]
  },
  {
   "cell_type": "markdown",
   "metadata": {},
   "source": [
    "## Solution: Piping Commands\n",
    "\n",
    "Option 4 is the solution. The pipe character `|` is used to connect the output from one command to the input of another. `>` is used to redirect standard output to a file. Try it in the `shell-lesson-data/exercise-data/proteins` directory!"
   ]
  },
  {
   "cell_type": "markdown",
   "metadata": {},
   "source": [
    "## Nelle's Pipeline: Checking Files\n",
    "\n",
    "Nelle has run her samples through the assay machines and created 17 files in the n`orth-pacific-gyre` directory described earlier. As a quick check, starting from the `IntroShell/dtata/shell-lesson-data` directory, Nelle types:\n",
    "\n",
    "```bash\n",
    "jupyter-user:$cd north-pacific-gyre\n",
    "jupyter-user:wc -l *.txt\n",
    "```\n",
    "\n",
    "The output is 18 lines that look like:\n",
    "\n",
    "```bash\n",
    "300 NENE01729A.txt\n",
    "300 NENE01729B.txt\n",
    "300 NENE01736A.txt\n",
    "300 NENE01751A.txt\n",
    "300 NENE01751B.txt\n",
    "300 NENE01812A.txt\n",
    "...\n",
    "```\n",
    "\n",
    "Now she types this:\n",
    "\n",
    "```bash\n",
    "jupyter-user:$wc -l *.txt | sort -n | head -n 5\n",
    " 240 NENE02018B.txt\n",
    " 300 NENE01729A.txt\n",
    " 300 NENE01729B.txt\n",
    " 300 NENE01736A.txt\n",
    " 300 NENE01751A.txt\n",
    "```\n",
    "\n",
    "Whoops: one of the files is 60 lines shorter than the others. When she goes back and checks it, she sees that she did that assay at 8:00 on a Monday morning — someone was probably in using the machine on the weekend, and she forgot to reset it. Before re-running that sample, she checks to see if any files have too much data:\n",
    "\n",
    "```bash\n",
    "jupyter-user:$wc -l *.txt | sort -n | tail -n 5\n",
    " 300 NENE02040B.txt\n",
    " 300 NENE02040Z.txt\n",
    " 300 NENE02043A.txt\n",
    " 300 NENE02043B.txt\n",
    " 5040 total\n",
    "```\n",
    "\n",
    "Those numbers look good — but what’s that ‘Z’ doing there in the third-to-last line? All of her samples should be marked ‘A’ or ‘B’; by convention, her lab uses ‘Z’ to indicate samples with missing information. To find others like it, she does this:\n",
    "\n",
    "```bash\n",
    "jupyter-user:$ ls *Z.txt\n",
    "NENE01971Z.txt    NENE02040Z.txt\n",
    "```\n",
    "\n",
    "Sure enough, when she checks the log on her laptop, there’s no depth recorded for either of those samples. Since it’s too late to get the information any other way, she must exclude those two files from her analysis. She could delete them using rm, but there are actually some analyses she might do later where depth doesn’t matter, so instead, she’ll have to be careful later on to select files using the wildcard expressions NENE*A.txt NENE*B.txt.\n",
    "\n",
    "\n",
    "\n"
   ]
  },
  {
   "cell_type": "markdown",
   "metadata": {},
   "source": [
    "## Exercise: Remove unneeded files\n",
    "\n",
    "Suppose you want to delete your processed data files, and only keep your raw files and processing script to save storage. The raw files end in `.dat` and the processed files end in `.txt`. Which of the following would remove all the processed data files, and only the processed data files?\n",
    "\n",
    "```bash\n",
    "1. $rm ?.txt\n",
    "2. $rm *.txt\n",
    "3. $rm * .txt\n",
    "4. $rm *.*\n",
    "```\n",
    "\n",
    "[Solution]()"
   ]
  },
  {
   "cell_type": "markdown",
   "metadata": {},
   "source": [
    "## Solution: Remove unneeded files\n",
    "\n",
    "1. This would remove .txt files with one-character names\n",
    "2. This is the correct answer\n",
    "3. The shell would expand * to match everything in the current directory, so the command would try to remove all matched files and an additional file called .txt\n",
    "4. The shell would expand *.* to match all files with any extension, so this command would delete all files"
   ]
  },
  {
   "cell_type": "markdown",
   "metadata": {},
   "source": [
    "## Key Points:\n",
    "- `wc` counts lines, words, and characters in its inputs.\n",
    "- `cat` displays the contents of its inputs.\n",
    "- `sort` sorts its inputs.\n",
    "- `head` displays the first 10 lines of its input.\n",
    "- `tail` displays the last 10 lines of its input.\n",
    "- `command > [file]` redirects a command’s output to a file (overwriting any existing content).\n",
    "- `command >> [file]` appends a command’s output to a file.\n",
    "- `[first] | [second]` is a pipeline: the output of the first command is used as the input to the second.\n",
    "- The best way to use the shell is to use pipes to combine simple single-purpose programs (filters)."
   ]
  },
  {
   "cell_type": "markdown",
   "metadata": {},
   "source": []
  }
 ],
 "metadata": {
  "celltoolbar": "Slideshow",
  "kernelspec": {
   "display_name": "Python 3",
   "language": "python",
   "name": "python3"
  },
  "language_info": {
   "codemirror_mode": {
    "name": "ipython",
    "version": 3
   },
   "file_extension": ".py",
   "mimetype": "text/x-python",
   "name": "python",
   "nbconvert_exporter": "python",
   "pygments_lexer": "ipython3",
   "version": "3.8.3"
  }
 },
 "nbformat": 4,
 "nbformat_minor": 2
}
