{
 "cells": [
  {
   "cell_type": "markdown",
   "metadata": {
    "slideshow": {
     "slide_type": "slide"
    }
   },
   "source": [
    "# Loops"
   ]
  },
  {
   "cell_type": "markdown",
   "metadata": {
    "slideshow": {
     "slide_type": "subslide"
    }
   },
   "source": [
    "## Overview:\n",
    "\n",
    "- **Teaching:**  40 min\n",
    "- **Exercises:** 10 min\n",
    "\n",
    "**Questions**\n",
    "- How can I perform the same actions on many different files?\n",
    "\n",
    "**Objectives**\n",
    "- Write a loop that applies one or more commands separately to each file in a set of files.\n",
    "- Trace the values taken on by a loop variable during execution of the loop.\n",
    "- Explain the difference between a variable’s name and its value.\n",
    "- Explain why spaces and some punctuation characters shouldn’t be used in file names.\n",
    "- Demonstrate how to see what commands have recently been executed.\n",
    "- Re-run recently executed commands without retyping them."
   ]
  },
  {
   "cell_type": "markdown",
   "metadata": {},
   "source": [
    "Loops are a programming construct which allow us to repeat a command or set of commands for each item in a list. As such they are key to productivity improvements through automation. Similar to wildcards and tab completion, using loops also reduces the amount of typing required (and hence reduces the number of typing mistakes).\n",
    "\n",
    "Suppose we have several hundred genome data files named `basilisk.dat`, `minotaur.dat`, and `unicorn.dat`. For this example, we’ll use the `exercise-data/creatures` directory which only has three example files, but the principles can be applied to many many more files at once.\n",
    "\n",
    "The structure of these files is the same: the common name, classification, and updated date are presented on the first three lines, with DNA sequences on the following lines. Let’s look at the files:\n",
    "\n",
    "```bash\n",
    "jupyter-user:$ head -n 5 basilisk.dat minotaur.dat unicorn.dat\n",
    "```\n",
    "\n",
    "We would like to print out the classification for each species, which is given on the second line of each file. For each file, we would need to execute the command `head -n 2` and pipe this to `tail -n 1`. We’ll use a loop to solve this problem, but first let’s look at the general form of a loop, using the pseudo-code below:\n",
    "\n",
    "```bash\n",
    "for thing in list_of_things\n",
    "do\n",
    "    operation_using $thing    # Indentation within the loop is not required, but aids legibility\n",
    "done\n",
    "```\n",
    "\n",
    "and we can apply this to our example like this:\n",
    "\n",
    "```bash\n",
    "jupyter-user:$ for filename in basilisk.dat minotaur.dat unicorn.dat\n",
    "> do\n",
    ">     head -n 2 $filename | tail -n 1\n",
    "> done\n",
    "CLASSIFICATION: basiliscus vulgaris\n",
    "CLASSIFICATION: bos hominus\n",
    "CLASSIFICATION: equus monoceros\n",
    "```"
   ]
  },
  {
   "cell_type": "markdown",
   "metadata": {},
   "source": [
    "## Information:\n",
    "The shell prompt changes from `$` to `>` and back again as we were typing in our loop. The second prompt, `>`, is different to remind us that we haven’t finished typing a complete command yet. A semicolon, `;`, can be used to separate two commands written on a single line.\n"
   ]
  },
  {
   "cell_type": "markdown",
   "metadata": {},
   "source": [
    "When the shell sees the keyword for, it knows to repeat a command (or group of commands) once for each item in a list. Each time the loop runs (called an iteration), an item in the list is assigned in sequence to the variable, and the commands inside the loop are executed, before moving on to the next item in the list. Inside the loop, we call for the variable’s value by putting `$` in front of it. The `$` tells the shell interpreter to treat the variable as a variable name and substitute its value in its place, rather than treat it as text or an external command.\n",
    "\n",
    "In this example, the list is three filenames: `basilisk.dat`, `minotaur.dat`, and `unicorn.dat`. Each time the loop iterates, it will assign a file name to the variable filename and run the head command. The first time through the loop, `$filename` is basilisk.dat. The interpreter runs the command head on `basilisk.dat` and pipes the first two lines to the `tail` command, which then prints the second line of `basilisk.dat`. For the second iteration, `$filename` becomes `minotaur.dat`. This time, the shell runs head on `minotaur.dat` and pipes the first two lines to the `tail` command, which then prints the second line of `minotaur.dat`. For the third iteration, `$filename` becomes `unicorn.dat`, so the shell runs the `head` command on that file, and `tail` on the output of that. Since the list was only three items, the shell exits the for loop."
   ]
  },
  {
   "cell_type": "markdown",
   "metadata": {},
   "source": [
    "## Information\n",
    "\n",
    "Here we see `>` being used as a shell prompt, whereas `>` is also used to redirect output. Similarly, `$` is used as a shell prompt, but, as we saw earlier, it is also used to ask the shell to get the value of a variable.\n",
    "\n",
    "If the shell prints `>` or `$` then it expects you to type something, and the symbol is a prompt.\n",
    "\n",
    "If you type `>` or `$` yourself, it is an instruction from you that the shell should redirect output or get the value of a variable.\n"
   ]
  },
  {
   "cell_type": "markdown",
   "metadata": {},
   "source": [
    "When using variables it is also possible to put the names into curly braces to clearly delimit the variable name: `$filename` is equivalent to `${filename}`, but is different from `${file}name`. You may find this notation in other people’s programs.\n",
    "\n",
    "We have called the variable in this loop filename in order to make its purpose clearer to human readers. The shell itself doesn’t care what the variable is called; if we wrote this loop as:\n",
    "\n",
    "```bash\n",
    "jupyter-user:$ for temperature in basilisk.dat minotaur.dat unicorn.dat\n",
    "> do\n",
    ">     head -n 2 $temperature | tail -n 1\n",
    "> done\n",
    "```\n",
    "\n",
    "it would work exactly the same way. Don’t do this. Programs are only useful if people can understand them, so meaningless names (like x) or misleading names (like temperature) increase the odds that the program won’t do what its readers think it does.\n",
    "\n",
    "In the above examples, the variables (thing, filename, x and temperature) could have been given any other name, as long as it is meaningful to both the person writing the code and the person reading it.\n",
    "\n",
    "Note also that loops can be used for other things than filenames, like a list of numbers or a subset of data."
   ]
  },
  {
   "cell_type": "markdown",
   "metadata": {},
   "source": [
    "## Exercise: Write your own loop\n",
    "\n",
    "How would you write a loop that echoes all 10 numbers from 0 to 9?\n",
    "[Solution]()"
   ]
  },
  {
   "cell_type": "markdown",
   "metadata": {},
   "source": [
    "## Solution: Write your own loop\n",
    "```bash\n",
    "jupyter-user$ for loop_variable in 0 1 2 3 4 5 6 7 8 9\n",
    "> do\n",
    ">     echo $loop_variable\n",
    "> done\n",
    "0\n",
    "1\n",
    "2\n",
    "3\n",
    "4\n",
    "5\n",
    "6\n",
    "7\n",
    "8\n",
    "9\n",
    "```"
   ]
  },
  {
   "cell_type": "markdown",
   "metadata": {},
   "source": [
    "## Exercise: Variables in loops\n",
    "\n",
    "This exercise refers to the `IntroShell/data/shell-lesson-data/exercise-data/proteins` directory. ls *.pdb gives the following output:\n",
    "\n",
    "```bash\n",
    "cubane.pdb  ethane.pdb  methane.pdb  octane.pdb  pentane.pdb  propane.pdb\n",
    "```\n",
    "\n",
    "What is the output of the following code?\n",
    "```bash\n",
    "$ for datafile in *.pdb\n",
    "> do\n",
    ">     ls *.pdb\n",
    "> done\n",
    "```\n",
    "\n",
    "Now, what is the output of the following code?\n",
    "\n",
    "```bash\n",
    "$ for datafile in *.pdb\n",
    "> do\n",
    ">     ls $datafile\n",
    "> done\n",
    "```\n"
   ]
  },
  {
   "cell_type": "markdown",
   "metadata": {},
   "source": [
    "## Solution: Variables in loops\n",
    "\n",
    "The first code block gives the same output on each iteration through the loop. Bash expands the wildcard *.pdb within the loop body (as well as before the loop starts) to match all files ending in .pdb and then lists them using ls. The expanded loop would look like this:\n",
    "\n",
    "\n",
    "```bash\n",
    "$ for datafile in cubane.pdb  ethane.pdb  methane.pdb  octane.pdb  pentane.pdb  propane.pdb\n",
    "> do\n",
    ">     ls cubane.pdb  ethane.pdb  methane.pdb  octane.pdb  pentane.pdb  propane.pdb\n",
    "> done\n",
    "cubane.pdb  ethane.pdb  methane.pdb  octane.pdb  pentane.pdb  propane.pdb\n",
    "cubane.pdb  ethane.pdb  methane.pdb  octane.pdb  pentane.pdb  propane.pdb\n",
    "cubane.pdb  ethane.pdb  methane.pdb  octane.pdb  pentane.pdb  propane.pdb\n",
    "cubane.pdb  ethane.pdb  methane.pdb  octane.pdb  pentane.pdb  propane.pdb\n",
    "cubane.pdb  ethane.pdb  methane.pdb  octane.pdb  pentane.pdb  propane.pdb\n",
    "cubane.pdb  ethane.pdb  methane.pdb  octane.pdb  pentane.pdb  propane.pdb\n",
    "```\n",
    "\n",
    "The second code block lists a different file on each loop iteration. The value of the datafile variable is evaluated using $datafile, and then listed using ls.\n",
    "\n",
    "```bash\n",
    "cubane.pdb\n",
    "ethane.pdb\n",
    "methane.pdb\n",
    "octane.pdb\n",
    "pentane.pdb\n",
    "propane.pdb\n",
    "```\n"
   ]
  },
  {
   "cell_type": "markdown",
   "metadata": {},
   "source": [
    "## Exercise: Limiting Sets of Files\n",
    "What would be the output of running the following loop in the `proteins` directory?\n",
    "```bash\n",
    "$ for filename in c*\n",
    "> do\n",
    ">     ls $filename\n",
    "> done\n",
    "```\n",
    "1. No files are listed \n",
    "2. All files are listed\n",
    "3. Only cubane.pdb , octane.pdb and pentane.pdb are listed\n",
    "4. Only cubane.pdb is listed\n",
    "\n",
    "How would the output differ from:\n",
    "```bash\n",
    "$ for filename in *c*\n",
    "> do\n",
    ">     ls $filename\n",
    "> done\n",
    "```\n",
    "1. The same files would be listed.\n",
    "2. All the files are listed this time.\n",
    "3. No files are listed this time.\n",
    "4. The files cubane.pdb and octane.pdb will be listed.\n",
    "5. Only the file octane.pdb will be listed.\n",
    "\n",
    "[Solution]()"
   ]
  },
  {
   "cell_type": "markdown",
   "metadata": {},
   "source": [
    "## Solution: Limiting Sets of Files\n",
    "\n",
    "For the first loop 4 is the correct answer. * matches zero or more characters, so any file name starting with the letter c, followed by zero or more other characters will be matched.\n",
    "\n",
    "For the second loop 4 is also the correct answer.  * matches zero or more characters, so a file name with zero or more characters before a letter c and zero or more characters after the letter c will be matched."
   ]
  },
  {
   "cell_type": "markdown",
   "metadata": {},
   "source": [
    "## Exercise: Saving to a file in a loop - Part one\n",
    "\n",
    "In the `proteins` directory, what is the effect of this loop?\n",
    "\n",
    "```bash\n",
    "for alkanes in *.pdb\n",
    "do\n",
    "    echo $alkanes\n",
    "    cat $alkanes > alkanes.pdb\n",
    "done\n",
    "```\n",
    "\n",
    "1. Prints cubane.pdb, ethane.pdb, methane.pdb, octane.pdb, pentane.pdb and propane.pdb, and the text from propane.pdb will be saved to a file called alkanes.pdb.\n",
    "2. Prints cubane.pdb, ethane.pdb, and methane.pdb, and the text from all three files would be concatenated and saved to a file called alkanes.pdb.\n",
    "3. Prints cubane.pdb, ethane.pdb, methane.pdb, octane.pdb, and pentane.pdb, and the text from propane.pdb will be saved to a file called alkanes.pdb.\n",
    "4. None of the above.\n",
    "\n",
    "[Solution]()"
   ]
  },
  {
   "cell_type": "markdown",
   "metadata": {},
   "source": [
    "## Solution: Saving to a file in a loop - Part one\n",
    "\n",
    "1. The text from each file in turn gets written to the alkanes.pdb file. However, the file gets overwritten on each loop iteration, so the final content of alkanes.pdb is the text from the propane.pdb file."
   ]
  },
  {
   "cell_type": "markdown",
   "metadata": {},
   "source": [
    "## Exercise: Saving to a file in a loop - Part two\n",
    "\n",
    "In the `proteins` directory, what is the effect of this loop?\n",
    "\n",
    "```bash\n",
    "for datafile in *.pdb\n",
    "do\n",
    "    cat $datafile > all.pdb\n",
    "done\n",
    "```\n",
    "\n",
    "1. All of the text from cubane.pdb, ethane.pdb, methane.pdb, octane.pdb, and pentane.pdb would be concatenated and saved to a file called all.pdb.\n",
    "2. The text from ethane.pdb will be saved to a file called all.pdb.\n",
    "3. All of the text from cubane.pdb, ethane.pdb, methane.pdb, octane.pdb, pentane.pdb and propane.pdb would be concatenated and saved to a file called all.pdb.\n",
    "4. All of the text from cubane.pdb, ethane.pdb, methane.pdb, octane.pdb, pentane.pdb and propane.pdb would be printed to the screen and saved to a file called all.pdb.\n",
    "\n",
    "[Solution]()"
   ]
  },
  {
   "cell_type": "markdown",
   "metadata": {},
   "source": [
    "## Solution: Saving to a file in a loop - Part two\n",
    "3. is the correct answer.`>>` appends to a file, rather than overwriting it with the redirected output from a command. Given the output from the cat command has been redirected, nothing is printed to the screen."
   ]
  },
  {
   "cell_type": "markdown",
   "metadata": {},
   "source": [
    "## Exercise: Creating backups\n",
    "\n",
    "In `IntroShell/data/shell-lesson-data/exercise-data/creatures` we would like to modify each of the files, but before we do that we would like to create a backup of each file, e.g. a backup of `basilisk.dat` named `original-basilisk.dat` etc.\n",
    "\n",
    "We can't use: \n",
    "\n",
    "```bash\n",
    "jupyter-user:$ cp *.dat original-*.dat\n",
    "``` \n",
    "\n",
    "as that would expand to \n",
    "\n",
    "```bash\n",
    "jupyter-user:$ cp basilisk.dat minotaur.dat unicorn.dat original-*.dat\n",
    "cp: target `original-*.dat' is not a directory\n",
    "``` \n",
    "\n",
    "and we get an error as cp expects the last input to be a directory if it recieves more than two inputs.\n",
    "\n",
    "Instead write a loop to acomplish this task.\n",
    "\n",
    "[Solution]()"
   ]
  },
  {
   "cell_type": "markdown",
   "metadata": {},
   "source": [
    "## Solution: Creating backups\n",
    "\n",
    "```bash\n",
    "jupyter-user:$ for filename in *.dat\n",
    "> do\n",
    ">     cp $filename original-$filename\n",
    "> done\n",
    "```"
   ]
  },
  {
   "cell_type": "markdown",
   "metadata": {},
   "source": []
  }
 ],
 "metadata": {
  "celltoolbar": "Slideshow",
  "kernelspec": {
   "display_name": "Python 3",
   "language": "python",
   "name": "python3"
  },
  "language_info": {
   "codemirror_mode": {
    "name": "ipython",
    "version": 3
   },
   "file_extension": ".py",
   "mimetype": "text/x-python",
   "name": "python",
   "nbconvert_exporter": "python",
   "pygments_lexer": "ipython3",
   "version": "3.8.3"
  }
 },
 "nbformat": 4,
 "nbformat_minor": 2
}
