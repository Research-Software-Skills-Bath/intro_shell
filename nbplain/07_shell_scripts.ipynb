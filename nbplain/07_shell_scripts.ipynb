{
 "cells": [
  {
   "cell_type": "markdown",
   "metadata": {
    "slideshow": {
     "slide_type": "slide"
    }
   },
   "source": [
    "# Shell scripts"
   ]
  },
  {
   "cell_type": "markdown",
   "metadata": {
    "slideshow": {
     "slide_type": "subslide"
    }
   },
   "source": [
    "## Overview:\n",
    "\n",
    "- **Teaching:**  30 min\n",
    "- **Exercises:** 15 min\n",
    "\n",
    "**Questions**\n",
    "- How can I save and re-use commands?\n",
    "\n",
    "**Objectives**\n",
    "- Write a shell script that runs a command or series of commands for a fixed set of files.\n",
    "- Run a shell script from the command line.\n",
    "- Write a shell script that operates on a set of files defined by the user on the command line.\n",
    "- Create pipelines that include shell scripts you, and others, have written."
   ]
  },
  {
   "cell_type": "markdown",
   "metadata": {},
   "source": [
    "We are finally ready to see what makes the shell such a powerful programming environment. We are going to take the commands we repeat frequently and save them in files so that we can re-run all those operations again later by typing a single command. For historical reasons, a bunch of commands saved in a file is usually called a shell script, but make no mistake: these are actually small programs.\n",
    "\n",
    "Not only will writing shell scripts make your work faster — you won’t have to retype the same commands over and over again — it will also make it more accurate (fewer chances for typos) and more reproducible. If you come back to your work later (or if someone else finds your work and wants to build on it) you will be able to reproduce the same results simply by running your script, rather than having to remember or retype a long list of commands.\n",
    "\n",
    "Let’s start by going back to proteins/ and creating a new file, middle.sh which will become our shell script:\n",
    "\n",
    "```bash\n",
    "jupyter-user:$cd ~/IntroShell/data/shell-lesson-data/exercise-data/proteins\n",
    "jupyter-user:$nano middle.sh\n",
    "```\n",
    "\n",
    "As we have seen the command `nano middle.sh` opens the file `middle.sh` within the text editor `nano` (which runs within the shell). If the file does not exist, it will be created. We can use the text editor to directly edit the file – we’ll simply insert the following line:\n",
    "\n",
    "```bash\n",
    "head -n 15 octane.pdb | tail -n 5\n",
    "```\n",
    "\n",
    "This is a variation on the pipe we constructed earlier: it selects lines 11-15 of the file octane.pdb. Remember, we are not running it as a command just yet: we are putting the commands in a file.\n",
    "\n",
    "Then we save the file (Ctrl-O in nano), and exit the text editor (Ctrl-X in nano). Check that the directory proteins now contains a file called middle.sh.\n",
    "\n",
    "Once we have saved the file, we can ask the shell to execute the commands it contains. Our shell is called bash, so we run the following command: "
   ]
  },
  {
   "cell_type": "markdown",
   "metadata": {},
   "source": [
    "This is a variation on the pipe we constructed earlier: it selects lines 11-15 of the file octane.pdb. Remember, we are not running it as a command just yet: we are putting the commands in a file.\n",
    "\n",
    "Then we save the file (`Ctrl-O` in nano), and exit the text editor (`Ctrl-X` in nano). Check that the directory proteins now contains a file called middle.sh.\n",
    "\n",
    "Once we have saved the file, we can ask the shell to execute the commands it contains. Our shell is called bash, so we run the following command:\n",
    "\n",
    "```bash\n",
    "jupyter-user:$bash middle.sh\n",
    "ATOM      9  H           1      -4.502   0.681   0.785  1.00  0.00\n",
    "ATOM     10  H           1      -5.254  -0.243  -0.537  1.00  0.00\n",
    "ATOM     11  H           1      -4.357   1.252  -0.895  1.00  0.00\n",
    "ATOM     12  H           1      -3.009  -0.741  -1.467  1.00  0.00\n",
    "ATOM     13  H           1      -3.172  -1.337   0.206  1.00  0.00\n",
    "```\n",
    "\n",
    "Sure enough, our script’s output is exactly what we would get if we ran that pipeline directly.\n"
   ]
  },
  {
   "cell_type": "markdown",
   "metadata": {},
   "source": [
    "## Information\n",
    "\n",
    "We usually call programs like Microsoft Word or LibreOffice Writer “text editors”, but we need to be a bit more careful when it comes to programming. By default, Microsoft Word uses .docx files to store not only text, but also formatting information about fonts, headings, and so on. This extra information isn’t stored as characters and doesn’t mean anything to tools like head: they expect input files to contain nothing but the letters, digits, and punctuation on a standard computer keyboard. When editing programs, therefore, you must either use a plain text editor, or be careful to save files as plain text."
   ]
  },
  {
   "cell_type": "markdown",
   "metadata": {},
   "source": [
    "What if we want to select lines from an arbitrary file? We could edit middle.sh each time to change the filename, but that would probably take longer than typing the command out again in the shell and executing it with a new file name. Instead, let’s edit middle.sh and make it more versatile:\n",
    "\n",
    "```bash\n",
    "jupyter-user:$nano middle.sh\n",
    "```\n",
    "\n",
    "Now, within `nano`, replace the text octane.pdb with the special variable called `$1`:\n",
    "\n",
    "```bash\n",
    "head -n 15 \"$1\" | tail -n 5\n",
    "```\n",
    "\n",
    "Inside a shell script, `$1` means ‘the first argument on the command line’. We can now run our script like this:\n",
    "\n",
    "```bash\n",
    "jupyter-user:$ bash middle.sh octane.pdb\n",
    "ATOM      9  H           1      -4.502   0.681   0.785  1.00  0.00\n",
    "ATOM     10  H           1      -5.254  -0.243  -0.537  1.00  0.00\n",
    "ATOM     11  H           1      -4.357   1.252  -0.895  1.00  0.00\n",
    "ATOM     12  H           1      -3.009  -0.741  -1.467  1.00  0.00\n",
    "ATOM     13  H           1      -3.172  -1.337   0.206  1.00  0.00\n",
    "```\n",
    "\n",
    "\n",
    "Or on a different file like this:\n",
    "\n",
    "```bash\n",
    "jupyter-user:$bash middle.sh pentane.pdb\n",
    "ATOM      9  H           1       1.324   0.350  -1.332  1.00  0.00\n",
    "ATOM     10  H           1       1.271   1.378   0.122  1.00  0.00\n",
    "ATOM     11  H           1      -0.074  -0.384   1.288  1.00  0.00\n",
    "ATOM     12  H           1      -0.048  -1.362  -0.205  1.00  0.00\n",
    "ATOM     13  H           1      -1.183   0.500  -1.412  1.00  0.00\n",
    "```\n"
   ]
  },
  {
   "cell_type": "markdown",
   "metadata": {},
   "source": [
    "## Information\n",
    "For the same reason that we put the loop variable inside double-quotes, in case the filename happens to contain any spaces, we surround $1 with double-quotes."
   ]
  },
  {
   "cell_type": "markdown",
   "metadata": {},
   "source": [
    "## Exercise: Additional Arguments\n",
    "\n",
    "Currently, we need to edit middle.sh each time we want to adjust the range of lines that is returned. \n",
    "\n",
    "Let’s fix that by configuring our script to instead use three command-line arguments. After the first command-line argument (`$1`), each additional argument that we provide will be accessible via the special variables `$1`, `$2`, `$3`, which refer to the first, second, third command-line arguments, respectively.\n",
    "\n",
    "Knowing this, can you edit middle.sh so that we can use arguments to define the range of lines to be passed to head and tail respectively?\n",
    "\n",
    "\n",
    "[Solution]()"
   ]
  },
  {
   "cell_type": "markdown",
   "metadata": {},
   "source": [
    "## Solution: Additional Arguments\n",
    "\n",
    "```bash\n",
    "head -n \"$2\" \"$1\" | tail -n \"$3\"\n",
    "```\n",
    "and we can now call our script with, for example:\n",
    "\n",
    "```bash\n",
    "jupyter-user:$ bash middle.sh pentane.pdb 15 5\n",
    "ATOM      9  H           1       1.324   0.350  -1.332  1.00  0.00\n",
    "ATOM     10  H           1       1.271   1.378   0.122  1.00  0.00\n",
    "ATOM     11  H           1      -0.074  -0.384   1.288  1.00  0.00\n",
    "ATOM     12  H           1      -0.048  -1.362  -0.205  1.00  0.00\n",
    "ATOM     13  H           1      -1.183   0.500  -1.412  1.00  0.00\n",
    "```\n",
    "\n",
    "```bash\n",
    "jupyter-user:$ bash middle.sh pentane.pdb 20 5\n",
    "ATOM     14  H           1      -1.259   1.420   0.112  1.00  0.00\n",
    "ATOM     15  H           1      -2.608  -0.407   1.130  1.00  0.00\n",
    "ATOM     16  H           1      -2.540  -1.303  -0.404  1.00  0.00\n",
    "ATOM     17  H           1      -3.393   0.254  -0.321  1.00  0.00\n",
    "TER      18              1\n",
    "```"
   ]
  },
  {
   "cell_type": "markdown",
   "metadata": {},
   "source": [
    "This works, but it may take the next person who reads middle.sh a moment to figure out what it does. We can improve our script by adding some comments at the top:\n",
    "\n",
    "```bash\n",
    "jupyter-user:$nano middle.sh\n",
    "```\n",
    "\n",
    "```bash\n",
    "# Select lines from the middle of a file.\n",
    "# Usage: bash middle.sh filename end_line num_lines\n",
    "head -n \"$2\" \"$1\" | tail -n \"$3\"\n",
    "```"
   ]
  },
  {
   "cell_type": "markdown",
   "metadata": {},
   "source": [
    "What if we want to process many files in a single pipeline? For example, if we want to sort our .pdb files by length, we would type:\n",
    "\n",
    "```bash\n",
    "jupyter-user$ wc -l *.pdb | sort -n\n",
    "```\n",
    "\n",
    "because `wc -l` lists the number of lines in the files (recall that wc stands for ‘word count’, adding the `-l` option means ‘count lines’ instead) and `sort -n` sorts things numerically. We could put this in a file, but then it would only ever sort a list of .pdb files in the current directory. \n",
    "\n",
    "If we want to be able to get a sorted list of other kinds of files, we need a way to get all those names into the script. We can’t use `$1`, `$2`, and so on because we don’t know how many files there are. Instead, we use the special variable `$@`, which means, ‘All of the command-line arguments to the shell script’. We also should put `$@` inside double-quotes to handle the case of arguments containing spaces (`$@` is special syntax and is equivalent to \"$1\" \"$2\" …).\n",
    "\n",
    "Here's an example:\n",
    "\n",
    "```bash\n",
    "jupyter-user:$nano sorted.sh\n",
    "```\n",
    "\n",
    "```bash\n",
    "# Sort files by their length.\n",
    "# Usage: bash sorted.sh one_or_more_filenames\n",
    "wc -l \"$@\" | sort -n\n",
    "```\n",
    "\n",
    "Now lets try running it:\n",
    "\n",
    "```bash\n",
    "jupyter-user$ bash sorted.sh *.pdb ../creatures/*.dat\n",
    "9 methane.pdb\n",
    "12 ethane.pdb\n",
    "15 propane.pdb\n",
    "20 cubane.pdb\n",
    "21 pentane.pdb\n",
    "30 octane.pdb\n",
    "163 ../creatures/basilisk.dat\n",
    "163 ../creatures/minotaur.dat\n",
    "163 ../creatures/unicorn.dat\n",
    "596 total\n",
    "```"
   ]
  },
  {
   "cell_type": "markdown",
   "metadata": {},
   "source": [
    "## Information: History\n",
    "\n",
    "Suppose we have just run a series of commands that did something useful — for example, that created a graph we’d like to use in a paper. We’d like to be able to re-create the graph later if we need to, so we want to save the commands in a file. Instead of typing them in again (and potentially getting them wrong). We can use the `history` command to achieve this. The `history` command prints to the terminal the last commands you have run.\n",
    "\n",
    "Try it now.\n",
    "\n",
    "```bash\n",
    "jupyter-user:$history\n",
    "```\n",
    "\n",
    "Say our last few commands did something useful we wanted to save. Lets look at the last 6 commands\n",
    "\n",
    "```bash\n",
    "jupyter-user:$history | tail -n 5\n",
    "297 bash goostats.sh NENE01729B.txt stats-NENE01729B.txt\n",
    "298 bash goodiff.sh stats-NENE01729B.txt /data/validated/01729.txt > 01729-differences.txt\n",
    "299 cut -d ',' -f 2-3 01729-differences.txt > 01729-time-series.txt\n",
    "300 ygraph --format scatter --color bw --borders none 01729-time-series.txt figure-3.png\n",
    "301 history | tail -n 5 \n",
    "```\n",
    "\n",
    "We can then redirect this to a file, and with a small amount of work to remove the serial numbers and the last line we have an accurate record of the commands we used. \n",
    "\n",
    "```bash\n",
    "jupyter-user:$ history | tail -n 5 > recent.sh\n",
    "```\n"
   ]
  },
  {
   "cell_type": "markdown",
   "metadata": {},
   "source": [
    "## Nelle's Pipeline: Creating a Script\n",
    "\n",
    "Nelle’s supervisor insisted that all her analytics must be reproducible. The easiest way to capture all the steps is in a script.\n",
    "\n",
    "First we return to Nelle’s project directory:\n",
    "\n",
    "```bash\n",
    "jupyter-user:$cd ../../north-pacific-gyre/\n",
    "```\n",
    "\n",
    "She creates a file using `nano` …\n",
    "\n",
    "```bash\n",
    "jupyter-user:$nano do-stats.sh\n",
    "```\n",
    "\n",
    "containing the followingL\n",
    "\n",
    "```bash\n",
    "# Calculate stats for data files.\n",
    "for datafile in \"$@\"\n",
    "do\n",
    "    echo $datafile\n",
    "    bash goostats.sh $datafile stats-$datafile\n",
    "done\n",
    "```\n",
    "\n",
    "She saves this in a file called do-stats.sh so that she can now re-do the first stage of her analysis by typing:\n",
    "\n",
    "```bash\n",
    "jupyter-user:$bash do-stats.sh NENE*A.txt NENE*B.txt\n",
    "```\n",
    "\n",
    "She can also do this:\n",
    "\n",
    "```bash\n",
    "jupyter-user:$ bash do-stats.sh NENE*A.txt NENE*B.txt | wc -l\n",
    "```\n",
    "\n",
    "so that the output is just the number of files processed rather than the names of the files that were processed."
   ]
  },
  {
   "cell_type": "markdown",
   "metadata": {},
   "source": [
    "## Exercise: Variables in shell scripts\n",
    "\n",
    "In the proteins directory, imagine you have a shell script called script.sh containing the following commands:\n",
    "\n",
    "```bash\n",
    "head -n $2 $1\n",
    "tail -n $3 $1\n",
    "```\n",
    "\n",
    "While you are in the proteins directory, you type the following command:\n",
    "```bash\n",
    "bash script.sh '*.pdb' 1 1\n",
    "```\n",
    "\n",
    "Which of the following outputs would you expect to see?\n",
    "\n",
    "1. All of the lines between the first and the last lines of each file ending in .pdb in the proteins directory\n",
    "2. The first and the last line of each file ending in .pdb in the proteins directory\n",
    "3. The first and the last line of each file in the proteins directory\n",
    "4. An error because of the quotes around *.pdb\n",
    "\n",
    "[Solution]()"
   ]
  },
  {
   "cell_type": "markdown",
   "metadata": {},
   "source": [
    "## Solution: Variables in shell scripts\n",
    "\n",
    "The correct answer is 2.\n",
    "\n",
    "The special variables $1, $2 and $3 represent the command line arguments given to the script, such that the commands run are:\n",
    "\n",
    "```bash\n",
    "$ head -n 1 cubane.pdb ethane.pdb octane.pdb pentane.pdb propane.pdb\n",
    "$ tail -n 1 cubane.pdb ethane.pdb octane.pdb pentane.pdb propane.pdb\n",
    "```\n",
    "\n",
    "The shell does not expand '*.pdb' because it is enclosed by quote marks. As such, the first argument to the script is '*.pdb' which gets expanded within the script by head and tail."
   ]
  },
  {
   "cell_type": "markdown",
   "metadata": {},
   "source": [
    "## Exercise: Longest file\n",
    "\n",
    "Write a shell script called longest.sh that takes the name of a directory and a filename extension as its arguments, and prints out the name of the file with the most lines in that directory with that extension. For example:\n",
    "\n",
    "```bash\n",
    "jupyter-user:$bash longest.sh shell-lesson-data/exercise-data/proteins pdb\n",
    "```\n",
    "\n",
    "would print the name of the .pdb file in shell-lesson-data/exercise-data/proteins that has the most lines.\n",
    "\n",
    "Feel free to test your script on another directory e.g.\n",
    "\n",
    "```bash\n",
    "jupyter-user:$ bash longest.sh shell-lesson-data/exercise-data/writing txt\n",
    "```\n",
    "[Solution]()"
   ]
  },
  {
   "cell_type": "markdown",
   "metadata": {},
   "source": [
    "## Solution: Longest file\n",
    "\n",
    "```bash\n",
    "# Shell script which takes two arguments:\n",
    "#    1. a directory name\n",
    "#    2. a file extension\n",
    "# and prints the name of the file in that directory\n",
    "# with the most lines which matches the file extension.\n",
    "\n",
    "wc -l $1/*.$2 | sort -n | tail -n 2 | head -n 1\n",
    "```\n",
    "\n",
    "The first part of the pipeline, `wc -l $1/*.$2 | sort -n`, counts the lines in each file and sorts them numerically (largest last). When there’s more than one file, `wc` also outputs a final summary line, giving the total number of lines across all files. We use `tail -n 2 | head -n 1` to throw away this last line.\n",
    "\n",
    "With `wc -l $1/*.$2 | sort -n | tail -n 1 `we’ll see the final summary line: we can build our pipeline up in pieces to be sure we understand the output."
   ]
  },
  {
   "cell_type": "markdown",
   "metadata": {},
   "source": [
    "## Key points\n",
    "\n",
    "- Save commands in files (usually called shell scripts) for re-use.\n",
    "- bash [filename] runs the commands saved in a file.\n",
    "- $@ refers to all of a shell script’s command-line arguments.\n",
    "- $1, $2, etc., refer to the first command-line argument, the second command-line argument, etc.\n",
    "- Place variables in quotes if the values might have spaces in them.\n"
   ]
  },
  {
   "cell_type": "markdown",
   "metadata": {},
   "source": []
  }
 ],
 "metadata": {
  "celltoolbar": "Slideshow",
  "kernelspec": {
   "display_name": "Python 3",
   "language": "python",
   "name": "python3"
  },
  "language_info": {
   "codemirror_mode": {
    "name": "ipython",
    "version": 3
   },
   "file_extension": ".py",
   "mimetype": "text/x-python",
   "name": "python",
   "nbconvert_exporter": "python",
   "pygments_lexer": "ipython3",
   "version": "3.8.3"
  }
 },
 "nbformat": 4,
 "nbformat_minor": 2
}
